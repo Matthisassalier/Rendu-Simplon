{
 "cells": [
  {
   "cell_type": "markdown",
   "metadata": {
    "id": "tRY2zJrBmxSR"
   },
   "source": [
    "# Manipulation avec Pandas"
   ]
  },
  {
   "cell_type": "markdown",
   "metadata": {},
   "source": [
    "### Table des Matières\n",
    "\n",
    "* [Import-des-librairies](#Import-des-librairies)\n",
    "* [Travail-à-faire](#Travail-à-faire)   \n",
    "    * [Dataset par client](#Créer-le-dataset-par-client-)\n",
    "        * [Création-du-nouveau-dataframe-par-client](#Création-du-nouveau-dataframe-par-client)\n",
    "    * [Centrer/Réduire-les-données](#Centrer/Réduire-les-données)\n",
    "        * [Displot](#Displot)\n",
    "    * [Matrice-de-corrélation](#Matrice-de-corrélation)\n",
    "* [Methode K mean](#K-Means-Elbow-method)\n",
    "    * [Ajout de la colonne cluster](#Ajout-de-la-colonne-\"Cluster\")\n",
    "    * [Indice de silhouette](#Indice-de-silhouette)\n",
    "    * [Interprétation-des-Clusters](#Interprétation-des-Clusters)"
   ]
  },
  {
   "cell_type": "markdown",
   "metadata": {
    "id": "g8YGWE9RmxSV"
   },
   "source": [
    "## Import des librairies"
   ]
  },
  {
   "cell_type": "code",
   "execution_count": 1,
   "metadata": {
    "id": "JAOqFKwrmxSW"
   },
   "outputs": [],
   "source": [
    "import pandas as pd\n",
    "import numpy as np\n",
    "import datetime\n",
    "import time\n",
    "from sklearn.cluster import KMeans\n",
    "import matplotlib.pyplot as plt\n",
    "import seaborn as sns\n",
    "%matplotlib inline "
   ]
  },
  {
   "cell_type": "code",
   "execution_count": 2,
   "metadata": {
    "id": "ErwZxkHFmxSW",
    "outputId": "601c745c-a0c4-46c6-8dc8-0e8297962471"
   },
   "outputs": [
    {
     "data": {
      "text/html": [
       "<div>\n",
       "<style scoped>\n",
       "    .dataframe tbody tr th:only-of-type {\n",
       "        vertical-align: middle;\n",
       "    }\n",
       "\n",
       "    .dataframe tbody tr th {\n",
       "        vertical-align: top;\n",
       "    }\n",
       "\n",
       "    .dataframe thead th {\n",
       "        text-align: right;\n",
       "    }\n",
       "</style>\n",
       "<table border=\"1\" class=\"dataframe\">\n",
       "  <thead>\n",
       "    <tr style=\"text-align: right;\">\n",
       "      <th></th>\n",
       "      <th>client_id</th>\n",
       "      <th>sex</th>\n",
       "      <th>birth</th>\n",
       "    </tr>\n",
       "  </thead>\n",
       "  <tbody>\n",
       "    <tr>\n",
       "      <th>0</th>\n",
       "      <td>c_4410</td>\n",
       "      <td>f</td>\n",
       "      <td>1967</td>\n",
       "    </tr>\n",
       "    <tr>\n",
       "      <th>1</th>\n",
       "      <td>c_7839</td>\n",
       "      <td>f</td>\n",
       "      <td>1975</td>\n",
       "    </tr>\n",
       "    <tr>\n",
       "      <th>2</th>\n",
       "      <td>c_1699</td>\n",
       "      <td>f</td>\n",
       "      <td>1984</td>\n",
       "    </tr>\n",
       "    <tr>\n",
       "      <th>3</th>\n",
       "      <td>c_5961</td>\n",
       "      <td>f</td>\n",
       "      <td>1962</td>\n",
       "    </tr>\n",
       "    <tr>\n",
       "      <th>4</th>\n",
       "      <td>c_5320</td>\n",
       "      <td>m</td>\n",
       "      <td>1943</td>\n",
       "    </tr>\n",
       "    <tr>\n",
       "      <th>...</th>\n",
       "      <td>...</td>\n",
       "      <td>...</td>\n",
       "      <td>...</td>\n",
       "    </tr>\n",
       "    <tr>\n",
       "      <th>8618</th>\n",
       "      <td>c_7920</td>\n",
       "      <td>m</td>\n",
       "      <td>1956</td>\n",
       "    </tr>\n",
       "    <tr>\n",
       "      <th>8619</th>\n",
       "      <td>c_7403</td>\n",
       "      <td>f</td>\n",
       "      <td>1970</td>\n",
       "    </tr>\n",
       "    <tr>\n",
       "      <th>8620</th>\n",
       "      <td>c_5119</td>\n",
       "      <td>m</td>\n",
       "      <td>1974</td>\n",
       "    </tr>\n",
       "    <tr>\n",
       "      <th>8621</th>\n",
       "      <td>c_5643</td>\n",
       "      <td>f</td>\n",
       "      <td>1968</td>\n",
       "    </tr>\n",
       "    <tr>\n",
       "      <th>8622</th>\n",
       "      <td>c_84</td>\n",
       "      <td>f</td>\n",
       "      <td>1982</td>\n",
       "    </tr>\n",
       "  </tbody>\n",
       "</table>\n",
       "<p>8623 rows × 3 columns</p>\n",
       "</div>"
      ],
      "text/plain": [
       "     client_id sex  birth\n",
       "0       c_4410   f   1967\n",
       "1       c_7839   f   1975\n",
       "2       c_1699   f   1984\n",
       "3       c_5961   f   1962\n",
       "4       c_5320   m   1943\n",
       "...        ...  ..    ...\n",
       "8618    c_7920   m   1956\n",
       "8619    c_7403   f   1970\n",
       "8620    c_5119   m   1974\n",
       "8621    c_5643   f   1968\n",
       "8622      c_84   f   1982\n",
       "\n",
       "[8623 rows x 3 columns]"
      ]
     },
     "execution_count": 2,
     "metadata": {},
     "output_type": "execute_result"
    }
   ],
   "source": [
    "customers=pd.read_csv(\"C:/Users/mattb/OneDrive/Documents/Simplon/Dataset/dataset_librairies/customers.csv\")\n",
    "customers"
   ]
  },
  {
   "cell_type": "code",
   "execution_count": 3,
   "metadata": {
    "id": "cpxfaw0LmxSY",
    "outputId": "f46a9ec5-608b-4cec-f849-ddc53cf3a9e2"
   },
   "outputs": [
    {
     "data": {
      "text/html": [
       "<div>\n",
       "<style scoped>\n",
       "    .dataframe tbody tr th:only-of-type {\n",
       "        vertical-align: middle;\n",
       "    }\n",
       "\n",
       "    .dataframe tbody tr th {\n",
       "        vertical-align: top;\n",
       "    }\n",
       "\n",
       "    .dataframe thead th {\n",
       "        text-align: right;\n",
       "    }\n",
       "</style>\n",
       "<table border=\"1\" class=\"dataframe\">\n",
       "  <thead>\n",
       "    <tr style=\"text-align: right;\">\n",
       "      <th></th>\n",
       "      <th>id_prod</th>\n",
       "      <th>price</th>\n",
       "      <th>categ</th>\n",
       "    </tr>\n",
       "  </thead>\n",
       "  <tbody>\n",
       "    <tr>\n",
       "      <th>0</th>\n",
       "      <td>0_1421</td>\n",
       "      <td>19.99</td>\n",
       "      <td>0</td>\n",
       "    </tr>\n",
       "    <tr>\n",
       "      <th>1</th>\n",
       "      <td>0_1368</td>\n",
       "      <td>5.13</td>\n",
       "      <td>0</td>\n",
       "    </tr>\n",
       "    <tr>\n",
       "      <th>2</th>\n",
       "      <td>0_731</td>\n",
       "      <td>17.99</td>\n",
       "      <td>0</td>\n",
       "    </tr>\n",
       "    <tr>\n",
       "      <th>3</th>\n",
       "      <td>1_587</td>\n",
       "      <td>4.99</td>\n",
       "      <td>1</td>\n",
       "    </tr>\n",
       "    <tr>\n",
       "      <th>4</th>\n",
       "      <td>0_1507</td>\n",
       "      <td>3.99</td>\n",
       "      <td>0</td>\n",
       "    </tr>\n",
       "    <tr>\n",
       "      <th>...</th>\n",
       "      <td>...</td>\n",
       "      <td>...</td>\n",
       "      <td>...</td>\n",
       "    </tr>\n",
       "    <tr>\n",
       "      <th>3282</th>\n",
       "      <td>2_23</td>\n",
       "      <td>115.99</td>\n",
       "      <td>2</td>\n",
       "    </tr>\n",
       "    <tr>\n",
       "      <th>3283</th>\n",
       "      <td>0_146</td>\n",
       "      <td>17.14</td>\n",
       "      <td>0</td>\n",
       "    </tr>\n",
       "    <tr>\n",
       "      <th>3284</th>\n",
       "      <td>0_802</td>\n",
       "      <td>11.22</td>\n",
       "      <td>0</td>\n",
       "    </tr>\n",
       "    <tr>\n",
       "      <th>3285</th>\n",
       "      <td>1_140</td>\n",
       "      <td>38.56</td>\n",
       "      <td>1</td>\n",
       "    </tr>\n",
       "    <tr>\n",
       "      <th>3286</th>\n",
       "      <td>0_1920</td>\n",
       "      <td>25.16</td>\n",
       "      <td>0</td>\n",
       "    </tr>\n",
       "  </tbody>\n",
       "</table>\n",
       "<p>3287 rows × 3 columns</p>\n",
       "</div>"
      ],
      "text/plain": [
       "     id_prod   price  categ\n",
       "0     0_1421   19.99      0\n",
       "1     0_1368    5.13      0\n",
       "2      0_731   17.99      0\n",
       "3      1_587    4.99      1\n",
       "4     0_1507    3.99      0\n",
       "...      ...     ...    ...\n",
       "3282    2_23  115.99      2\n",
       "3283   0_146   17.14      0\n",
       "3284   0_802   11.22      0\n",
       "3285   1_140   38.56      1\n",
       "3286  0_1920   25.16      0\n",
       "\n",
       "[3287 rows x 3 columns]"
      ]
     },
     "execution_count": 3,
     "metadata": {},
     "output_type": "execute_result"
    }
   ],
   "source": [
    "products=pd.read_csv(\"C:/Users/mattb/OneDrive/Documents/Simplon/Dataset/dataset_librairies/products.csv\")\n",
    "products"
   ]
  },
  {
   "cell_type": "code",
   "execution_count": 4,
   "metadata": {
    "id": "tJKGEwr4mxSY",
    "outputId": "acf28bc5-28ac-42bf-f625-cf70259eac8d"
   },
   "outputs": [
    {
     "data": {
      "text/html": [
       "<div>\n",
       "<style scoped>\n",
       "    .dataframe tbody tr th:only-of-type {\n",
       "        vertical-align: middle;\n",
       "    }\n",
       "\n",
       "    .dataframe tbody tr th {\n",
       "        vertical-align: top;\n",
       "    }\n",
       "\n",
       "    .dataframe thead th {\n",
       "        text-align: right;\n",
       "    }\n",
       "</style>\n",
       "<table border=\"1\" class=\"dataframe\">\n",
       "  <thead>\n",
       "    <tr style=\"text-align: right;\">\n",
       "      <th></th>\n",
       "      <th>id_prod</th>\n",
       "      <th>date</th>\n",
       "      <th>session_id</th>\n",
       "      <th>client_id</th>\n",
       "    </tr>\n",
       "  </thead>\n",
       "  <tbody>\n",
       "    <tr>\n",
       "      <th>0</th>\n",
       "      <td>0_1483</td>\n",
       "      <td>2021-04-10 18:37:28.723910</td>\n",
       "      <td>s_18746</td>\n",
       "      <td>c_4450</td>\n",
       "    </tr>\n",
       "    <tr>\n",
       "      <th>1</th>\n",
       "      <td>2_226</td>\n",
       "      <td>2022-02-03 01:55:53.276402</td>\n",
       "      <td>s_159142</td>\n",
       "      <td>c_277</td>\n",
       "    </tr>\n",
       "    <tr>\n",
       "      <th>2</th>\n",
       "      <td>1_374</td>\n",
       "      <td>2021-09-23 15:13:46.938559</td>\n",
       "      <td>s_94290</td>\n",
       "      <td>c_4270</td>\n",
       "    </tr>\n",
       "    <tr>\n",
       "      <th>3</th>\n",
       "      <td>0_2186</td>\n",
       "      <td>2021-10-17 03:27:18.783634</td>\n",
       "      <td>s_105936</td>\n",
       "      <td>c_4597</td>\n",
       "    </tr>\n",
       "    <tr>\n",
       "      <th>4</th>\n",
       "      <td>0_1351</td>\n",
       "      <td>2021-07-17 20:34:25.800563</td>\n",
       "      <td>s_63642</td>\n",
       "      <td>c_1242</td>\n",
       "    </tr>\n",
       "    <tr>\n",
       "      <th>...</th>\n",
       "      <td>...</td>\n",
       "      <td>...</td>\n",
       "      <td>...</td>\n",
       "      <td>...</td>\n",
       "    </tr>\n",
       "    <tr>\n",
       "      <th>337011</th>\n",
       "      <td>1_671</td>\n",
       "      <td>2021-05-28 12:35:46.214839</td>\n",
       "      <td>s_40720</td>\n",
       "      <td>c_3454</td>\n",
       "    </tr>\n",
       "    <tr>\n",
       "      <th>337012</th>\n",
       "      <td>0_759</td>\n",
       "      <td>2021-06-19 00:19:23.917703</td>\n",
       "      <td>s_50568</td>\n",
       "      <td>c_6268</td>\n",
       "    </tr>\n",
       "    <tr>\n",
       "      <th>337013</th>\n",
       "      <td>0_1256</td>\n",
       "      <td>2021-03-16 17:31:59.442007</td>\n",
       "      <td>s_7219</td>\n",
       "      <td>c_4137</td>\n",
       "    </tr>\n",
       "    <tr>\n",
       "      <th>337014</th>\n",
       "      <td>2_227</td>\n",
       "      <td>2021-10-30 16:50:15.997750</td>\n",
       "      <td>s_112349</td>\n",
       "      <td>c_5</td>\n",
       "    </tr>\n",
       "    <tr>\n",
       "      <th>337015</th>\n",
       "      <td>0_1417</td>\n",
       "      <td>2021-06-26 14:38:19.732946</td>\n",
       "      <td>s_54117</td>\n",
       "      <td>c_6714</td>\n",
       "    </tr>\n",
       "  </tbody>\n",
       "</table>\n",
       "<p>337016 rows × 4 columns</p>\n",
       "</div>"
      ],
      "text/plain": [
       "       id_prod                        date session_id client_id\n",
       "0       0_1483  2021-04-10 18:37:28.723910    s_18746    c_4450\n",
       "1        2_226  2022-02-03 01:55:53.276402   s_159142     c_277\n",
       "2        1_374  2021-09-23 15:13:46.938559    s_94290    c_4270\n",
       "3       0_2186  2021-10-17 03:27:18.783634   s_105936    c_4597\n",
       "4       0_1351  2021-07-17 20:34:25.800563    s_63642    c_1242\n",
       "...        ...                         ...        ...       ...\n",
       "337011   1_671  2021-05-28 12:35:46.214839    s_40720    c_3454\n",
       "337012   0_759  2021-06-19 00:19:23.917703    s_50568    c_6268\n",
       "337013  0_1256  2021-03-16 17:31:59.442007     s_7219    c_4137\n",
       "337014   2_227  2021-10-30 16:50:15.997750   s_112349       c_5\n",
       "337015  0_1417  2021-06-26 14:38:19.732946    s_54117    c_6714\n",
       "\n",
       "[337016 rows x 4 columns]"
      ]
     },
     "execution_count": 4,
     "metadata": {},
     "output_type": "execute_result"
    }
   ],
   "source": [
    "transactions=pd.read_csv(\"C:/Users/mattb/OneDrive/Documents/Simplon/Dataset/dataset_librairies/transactions.csv\")\n",
    "transactions"
   ]
  },
  {
   "cell_type": "code",
   "execution_count": 5,
   "metadata": {
    "id": "w6WB46Y-mxSZ",
    "outputId": "9f21fc92-d688-41da-96b5-ee99a80c6565"
   },
   "outputs": [
    {
     "data": {
      "text/html": [
       "<div>\n",
       "<style scoped>\n",
       "    .dataframe tbody tr th:only-of-type {\n",
       "        vertical-align: middle;\n",
       "    }\n",
       "\n",
       "    .dataframe tbody tr th {\n",
       "        vertical-align: top;\n",
       "    }\n",
       "\n",
       "    .dataframe thead th {\n",
       "        text-align: right;\n",
       "    }\n",
       "</style>\n",
       "<table border=\"1\" class=\"dataframe\">\n",
       "  <thead>\n",
       "    <tr style=\"text-align: right;\">\n",
       "      <th></th>\n",
       "      <th>client_id</th>\n",
       "      <th>sex</th>\n",
       "      <th>birth</th>\n",
       "      <th>id_prod</th>\n",
       "      <th>date</th>\n",
       "      <th>session_id</th>\n",
       "    </tr>\n",
       "  </thead>\n",
       "  <tbody>\n",
       "    <tr>\n",
       "      <th>0</th>\n",
       "      <td>c_4410</td>\n",
       "      <td>f</td>\n",
       "      <td>1967</td>\n",
       "      <td>0_1455</td>\n",
       "      <td>2021-03-22 14:29:25.189266</td>\n",
       "      <td>s_9942</td>\n",
       "    </tr>\n",
       "    <tr>\n",
       "      <th>1</th>\n",
       "      <td>c_4410</td>\n",
       "      <td>f</td>\n",
       "      <td>1967</td>\n",
       "      <td>0_1376</td>\n",
       "      <td>2021-09-24 22:58:27.418343</td>\n",
       "      <td>s_94984</td>\n",
       "    </tr>\n",
       "    <tr>\n",
       "      <th>2</th>\n",
       "      <td>c_4410</td>\n",
       "      <td>f</td>\n",
       "      <td>1967</td>\n",
       "      <td>1_312</td>\n",
       "      <td>2022-01-29 14:07:47.482092</td>\n",
       "      <td>s_156960</td>\n",
       "    </tr>\n",
       "    <tr>\n",
       "      <th>3</th>\n",
       "      <td>c_4410</td>\n",
       "      <td>f</td>\n",
       "      <td>1967</td>\n",
       "      <td>1_653</td>\n",
       "      <td>2021-07-29 23:34:41.866951</td>\n",
       "      <td>s_68860</td>\n",
       "    </tr>\n",
       "    <tr>\n",
       "      <th>4</th>\n",
       "      <td>c_4410</td>\n",
       "      <td>f</td>\n",
       "      <td>1967</td>\n",
       "      <td>0_1110</td>\n",
       "      <td>2021-11-04 16:28:30.169021</td>\n",
       "      <td>s_114715</td>\n",
       "    </tr>\n",
       "    <tr>\n",
       "      <th>...</th>\n",
       "      <td>...</td>\n",
       "      <td>...</td>\n",
       "      <td>...</td>\n",
       "      <td>...</td>\n",
       "      <td>...</td>\n",
       "      <td>...</td>\n",
       "    </tr>\n",
       "    <tr>\n",
       "      <th>337011</th>\n",
       "      <td>c_84</td>\n",
       "      <td>f</td>\n",
       "      <td>1982</td>\n",
       "      <td>1_459</td>\n",
       "      <td>2022-02-17 00:16:56.629536</td>\n",
       "      <td>s_166337</td>\n",
       "    </tr>\n",
       "    <tr>\n",
       "      <th>337012</th>\n",
       "      <td>c_84</td>\n",
       "      <td>f</td>\n",
       "      <td>1982</td>\n",
       "      <td>0_1050</td>\n",
       "      <td>2021-09-20 10:05:37.086910</td>\n",
       "      <td>s_92701</td>\n",
       "    </tr>\n",
       "    <tr>\n",
       "      <th>337013</th>\n",
       "      <td>c_84</td>\n",
       "      <td>f</td>\n",
       "      <td>1982</td>\n",
       "      <td>0_1417</td>\n",
       "      <td>2021-03-13 23:55:06.835238</td>\n",
       "      <td>s_5960</td>\n",
       "    </tr>\n",
       "    <tr>\n",
       "      <th>337014</th>\n",
       "      <td>c_84</td>\n",
       "      <td>f</td>\n",
       "      <td>1982</td>\n",
       "      <td>1_343</td>\n",
       "      <td>2021-04-13 03:59:33.614841</td>\n",
       "      <td>s_19845</td>\n",
       "    </tr>\n",
       "    <tr>\n",
       "      <th>337015</th>\n",
       "      <td>c_84</td>\n",
       "      <td>f</td>\n",
       "      <td>1982</td>\n",
       "      <td>0_1571</td>\n",
       "      <td>2021-04-13 04:10:37.599464</td>\n",
       "      <td>s_19845</td>\n",
       "    </tr>\n",
       "  </tbody>\n",
       "</table>\n",
       "<p>337016 rows × 6 columns</p>\n",
       "</div>"
      ],
      "text/plain": [
       "       client_id sex  birth id_prod                        date session_id\n",
       "0         c_4410   f   1967  0_1455  2021-03-22 14:29:25.189266     s_9942\n",
       "1         c_4410   f   1967  0_1376  2021-09-24 22:58:27.418343    s_94984\n",
       "2         c_4410   f   1967   1_312  2022-01-29 14:07:47.482092   s_156960\n",
       "3         c_4410   f   1967   1_653  2021-07-29 23:34:41.866951    s_68860\n",
       "4         c_4410   f   1967  0_1110  2021-11-04 16:28:30.169021   s_114715\n",
       "...          ...  ..    ...     ...                         ...        ...\n",
       "337011      c_84   f   1982   1_459  2022-02-17 00:16:56.629536   s_166337\n",
       "337012      c_84   f   1982  0_1050  2021-09-20 10:05:37.086910    s_92701\n",
       "337013      c_84   f   1982  0_1417  2021-03-13 23:55:06.835238     s_5960\n",
       "337014      c_84   f   1982   1_343  2021-04-13 03:59:33.614841    s_19845\n",
       "337015      c_84   f   1982  0_1571  2021-04-13 04:10:37.599464    s_19845\n",
       "\n",
       "[337016 rows x 6 columns]"
      ]
     },
     "execution_count": 5,
     "metadata": {},
     "output_type": "execute_result"
    }
   ],
   "source": [
    "data_inter=customers.merge(transactions)\n",
    "data_inter"
   ]
  },
  {
   "cell_type": "code",
   "execution_count": 6,
   "metadata": {
    "id": "Ow_E7EGGmxSZ",
    "outputId": "ea298059-4890-433b-d306-d9c0b2c13634"
   },
   "outputs": [
    {
     "data": {
      "text/html": [
       "<div>\n",
       "<style scoped>\n",
       "    .dataframe tbody tr th:only-of-type {\n",
       "        vertical-align: middle;\n",
       "    }\n",
       "\n",
       "    .dataframe tbody tr th {\n",
       "        vertical-align: top;\n",
       "    }\n",
       "\n",
       "    .dataframe thead th {\n",
       "        text-align: right;\n",
       "    }\n",
       "</style>\n",
       "<table border=\"1\" class=\"dataframe\">\n",
       "  <thead>\n",
       "    <tr style=\"text-align: right;\">\n",
       "      <th></th>\n",
       "      <th>client_id</th>\n",
       "      <th>sex</th>\n",
       "      <th>birth</th>\n",
       "      <th>id_prod</th>\n",
       "      <th>date</th>\n",
       "      <th>session_id</th>\n",
       "      <th>price</th>\n",
       "      <th>categ</th>\n",
       "      <th>age</th>\n",
       "    </tr>\n",
       "  </thead>\n",
       "  <tbody>\n",
       "    <tr>\n",
       "      <th>0</th>\n",
       "      <td>c_4410</td>\n",
       "      <td>f</td>\n",
       "      <td>1967</td>\n",
       "      <td>0_1455</td>\n",
       "      <td>2021-03-22 14:29:25.189266</td>\n",
       "      <td>s_9942</td>\n",
       "      <td>8.99</td>\n",
       "      <td>0</td>\n",
       "      <td>55</td>\n",
       "    </tr>\n",
       "    <tr>\n",
       "      <th>1</th>\n",
       "      <td>c_4389</td>\n",
       "      <td>m</td>\n",
       "      <td>1984</td>\n",
       "      <td>0_1455</td>\n",
       "      <td>2021-07-09 11:16:18.579726</td>\n",
       "      <td>s_59967</td>\n",
       "      <td>8.99</td>\n",
       "      <td>0</td>\n",
       "      <td>38</td>\n",
       "    </tr>\n",
       "    <tr>\n",
       "      <th>2</th>\n",
       "      <td>c_5019</td>\n",
       "      <td>f</td>\n",
       "      <td>1977</td>\n",
       "      <td>0_1455</td>\n",
       "      <td>2022-01-15 00:01:53.456196</td>\n",
       "      <td>s_149928</td>\n",
       "      <td>8.99</td>\n",
       "      <td>0</td>\n",
       "      <td>45</td>\n",
       "    </tr>\n",
       "    <tr>\n",
       "      <th>3</th>\n",
       "      <td>c_7049</td>\n",
       "      <td>f</td>\n",
       "      <td>1987</td>\n",
       "      <td>0_1455</td>\n",
       "      <td>2021-03-04 14:01:38.698752</td>\n",
       "      <td>s_1637</td>\n",
       "      <td>8.99</td>\n",
       "      <td>0</td>\n",
       "      <td>35</td>\n",
       "    </tr>\n",
       "    <tr>\n",
       "      <th>4</th>\n",
       "      <td>c_5110</td>\n",
       "      <td>f</td>\n",
       "      <td>1982</td>\n",
       "      <td>0_1455</td>\n",
       "      <td>2021-09-05 11:48:41.065009</td>\n",
       "      <td>s_85364</td>\n",
       "      <td>8.99</td>\n",
       "      <td>0</td>\n",
       "      <td>40</td>\n",
       "    </tr>\n",
       "    <tr>\n",
       "      <th>...</th>\n",
       "      <td>...</td>\n",
       "      <td>...</td>\n",
       "      <td>...</td>\n",
       "      <td>...</td>\n",
       "      <td>...</td>\n",
       "      <td>...</td>\n",
       "      <td>...</td>\n",
       "      <td>...</td>\n",
       "      <td>...</td>\n",
       "    </tr>\n",
       "    <tr>\n",
       "      <th>336908</th>\n",
       "      <td>c_7135</td>\n",
       "      <td>m</td>\n",
       "      <td>1996</td>\n",
       "      <td>2_99</td>\n",
       "      <td>2021-07-11 20:56:49.820935</td>\n",
       "      <td>s_61009</td>\n",
       "      <td>84.99</td>\n",
       "      <td>2</td>\n",
       "      <td>26</td>\n",
       "    </tr>\n",
       "    <tr>\n",
       "      <th>336909</th>\n",
       "      <td>c_5828</td>\n",
       "      <td>f</td>\n",
       "      <td>1998</td>\n",
       "      <td>2_99</td>\n",
       "      <td>2021-11-21 01:53:46.967570</td>\n",
       "      <td>s_122697</td>\n",
       "      <td>84.99</td>\n",
       "      <td>2</td>\n",
       "      <td>24</td>\n",
       "    </tr>\n",
       "    <tr>\n",
       "      <th>336910</th>\n",
       "      <td>c_8260</td>\n",
       "      <td>m</td>\n",
       "      <td>1991</td>\n",
       "      <td>0_833</td>\n",
       "      <td>2021-09-27 23:22:40.394509</td>\n",
       "      <td>s_96558</td>\n",
       "      <td>2.99</td>\n",
       "      <td>0</td>\n",
       "      <td>31</td>\n",
       "    </tr>\n",
       "    <tr>\n",
       "      <th>336911</th>\n",
       "      <td>c_8138</td>\n",
       "      <td>f</td>\n",
       "      <td>1984</td>\n",
       "      <td>0_394</td>\n",
       "      <td>2021-11-09 09:02:38.299240</td>\n",
       "      <td>s_116986</td>\n",
       "      <td>2.14</td>\n",
       "      <td>0</td>\n",
       "      <td>38</td>\n",
       "    </tr>\n",
       "    <tr>\n",
       "      <th>336912</th>\n",
       "      <td>c_8327</td>\n",
       "      <td>m</td>\n",
       "      <td>1972</td>\n",
       "      <td>0_394</td>\n",
       "      <td>2021-12-28 22:44:11.200205</td>\n",
       "      <td>s_141516</td>\n",
       "      <td>2.14</td>\n",
       "      <td>0</td>\n",
       "      <td>50</td>\n",
       "    </tr>\n",
       "  </tbody>\n",
       "</table>\n",
       "<p>336913 rows × 9 columns</p>\n",
       "</div>"
      ],
      "text/plain": [
       "       client_id sex  birth id_prod                        date session_id  \\\n",
       "0         c_4410   f   1967  0_1455  2021-03-22 14:29:25.189266     s_9942   \n",
       "1         c_4389   m   1984  0_1455  2021-07-09 11:16:18.579726    s_59967   \n",
       "2         c_5019   f   1977  0_1455  2022-01-15 00:01:53.456196   s_149928   \n",
       "3         c_7049   f   1987  0_1455  2021-03-04 14:01:38.698752     s_1637   \n",
       "4         c_5110   f   1982  0_1455  2021-09-05 11:48:41.065009    s_85364   \n",
       "...          ...  ..    ...     ...                         ...        ...   \n",
       "336908    c_7135   m   1996    2_99  2021-07-11 20:56:49.820935    s_61009   \n",
       "336909    c_5828   f   1998    2_99  2021-11-21 01:53:46.967570   s_122697   \n",
       "336910    c_8260   m   1991   0_833  2021-09-27 23:22:40.394509    s_96558   \n",
       "336911    c_8138   f   1984   0_394  2021-11-09 09:02:38.299240   s_116986   \n",
       "336912    c_8327   m   1972   0_394  2021-12-28 22:44:11.200205   s_141516   \n",
       "\n",
       "        price  categ  age  \n",
       "0        8.99      0   55  \n",
       "1        8.99      0   38  \n",
       "2        8.99      0   45  \n",
       "3        8.99      0   35  \n",
       "4        8.99      0   40  \n",
       "...       ...    ...  ...  \n",
       "336908  84.99      2   26  \n",
       "336909  84.99      2   24  \n",
       "336910   2.99      0   31  \n",
       "336911   2.14      0   38  \n",
       "336912   2.14      0   50  \n",
       "\n",
       "[336913 rows x 9 columns]"
      ]
     },
     "execution_count": 6,
     "metadata": {},
     "output_type": "execute_result"
    }
   ],
   "source": [
    "data = data_inter.merge(products)\n",
    "data['age'] = 2022 - data.birth\n",
    "data"
   ]
  },
  {
   "cell_type": "code",
   "execution_count": 7,
   "metadata": {
    "id": "OZhcgGpymxSa",
    "outputId": "2a9be2dc-827e-4c1b-af2f-4ab2d80486d2"
   },
   "outputs": [
    {
     "data": {
      "text/plain": [
       "(336713, 9)"
      ]
     },
     "execution_count": 7,
     "metadata": {},
     "output_type": "execute_result"
    }
   ],
   "source": [
    "data = data.drop(data[data.price < 0].index)\n",
    "data.shape"
   ]
  },
  {
   "cell_type": "markdown",
   "metadata": {
    "id": "hRJnYIg4mxSa"
   },
   "source": [
    "## Travail à faire"
   ]
  },
  {
   "cell_type": "markdown",
   "metadata": {
    "id": "TrVoRoucmxSb"
   },
   "source": [
    "### Créer le dataset par client <a class=\"anchor\" id=\"Dataset par client\"></a>"
   ]
  },
  {
   "cell_type": "markdown",
   "metadata": {
    "id": "N_djor_kmxSb"
   },
   "source": [
    "| id_client | Age | Sexe | *Montant | *Fréquence | *Panier Moyen | *Tranche d'Age | *Montant catégorie 0 | *Montant catég 1 | *Montant catég 2 | *Récence |\n",
    "|:---------:|-----|------|----------|------------|---------------|----------------|----------------------|------------------|------------------|---------|\n",
    "|           |     |      |          |            |               |                |                      |                  |                  |         |\n",
    "|           |     |      |          |            |               |                |                      |                  |                  |         |"
   ]
  },
  {
   "cell_type": "markdown",
   "metadata": {
    "id": "qHw6n3iImxSc"
   },
   "source": [
    "Les colonnes précédées d'un \"*\" sont les nouvelles colonnes à calculer.  \n",
    "Montant : montant dépensé total des achats sur la période  \n",
    "\n",
    "\n",
    "Fréquence : nombre d'achat sur la période\n",
    "\n",
    "Récence : nombre de jour depuis le dernier achat (Attention, partir du max(Date) du dataset !)\n",
    "  \n",
    "Vous devez avoir à la fin, une ligne par client.  "
   ]
  },
  {
   "cell_type": "markdown",
   "metadata": {
    "id": "6W03lXjimxSc"
   },
   "source": [
    "**Fonctions nécessaires :**  \n",
    " - [groupby()](https://pandas.pydata.org/pandas-docs/stable/reference/api/pandas.DataFrame.groupby.html)\n",
    " - [pivot_table()](https://pandas.pydata.org/pandas-docs/stable/reference/api/pandas.pivot_table.html) (+ reset_index() )\n",
    " "
   ]
  },
  {
   "cell_type": "markdown",
   "metadata": {
    "id": "lbMGCqc2mxSd"
   },
   "source": [
    "Ceci peut vous aider :"
   ]
  },
  {
   "cell_type": "code",
   "execution_count": 8,
   "metadata": {
    "id": "Vdv2J4t6mxSd"
   },
   "outputs": [],
   "source": [
    "#from datetime import datetime\n",
    "#data['date'] = data['date'].apply(pd.to_datetime)"
   ]
  },
  {
   "cell_type": "markdown",
   "metadata": {},
   "source": [
    "# Data_client_id"
   ]
  },
  {
   "cell_type": "code",
   "execution_count": 9,
   "metadata": {},
   "outputs": [
    {
     "data": {
      "text/html": [
       "<div>\n",
       "<style scoped>\n",
       "    .dataframe tbody tr th:only-of-type {\n",
       "        vertical-align: middle;\n",
       "    }\n",
       "\n",
       "    .dataframe tbody tr th {\n",
       "        vertical-align: top;\n",
       "    }\n",
       "\n",
       "    .dataframe thead th {\n",
       "        text-align: right;\n",
       "    }\n",
       "</style>\n",
       "<table border=\"1\" class=\"dataframe\">\n",
       "  <thead>\n",
       "    <tr style=\"text-align: right;\">\n",
       "      <th></th>\n",
       "      <th>client_id</th>\n",
       "      <th>sex</th>\n",
       "      <th>age</th>\n",
       "    </tr>\n",
       "  </thead>\n",
       "  <tbody>\n",
       "    <tr>\n",
       "      <th>0</th>\n",
       "      <td>c_1</td>\n",
       "      <td>m</td>\n",
       "      <td>67</td>\n",
       "    </tr>\n",
       "    <tr>\n",
       "      <th>1</th>\n",
       "      <td>c_10</td>\n",
       "      <td>m</td>\n",
       "      <td>66</td>\n",
       "    </tr>\n",
       "    <tr>\n",
       "      <th>2</th>\n",
       "      <td>c_100</td>\n",
       "      <td>m</td>\n",
       "      <td>30</td>\n",
       "    </tr>\n",
       "    <tr>\n",
       "      <th>3</th>\n",
       "      <td>c_1000</td>\n",
       "      <td>f</td>\n",
       "      <td>56</td>\n",
       "    </tr>\n",
       "    <tr>\n",
       "      <th>4</th>\n",
       "      <td>c_1001</td>\n",
       "      <td>m</td>\n",
       "      <td>40</td>\n",
       "    </tr>\n",
       "    <tr>\n",
       "      <th>...</th>\n",
       "      <td>...</td>\n",
       "      <td>...</td>\n",
       "      <td>...</td>\n",
       "    </tr>\n",
       "    <tr>\n",
       "      <th>8595</th>\n",
       "      <td>c_995</td>\n",
       "      <td>m</td>\n",
       "      <td>67</td>\n",
       "    </tr>\n",
       "    <tr>\n",
       "      <th>8596</th>\n",
       "      <td>c_996</td>\n",
       "      <td>f</td>\n",
       "      <td>52</td>\n",
       "    </tr>\n",
       "    <tr>\n",
       "      <th>8597</th>\n",
       "      <td>c_997</td>\n",
       "      <td>f</td>\n",
       "      <td>28</td>\n",
       "    </tr>\n",
       "    <tr>\n",
       "      <th>8598</th>\n",
       "      <td>c_998</td>\n",
       "      <td>m</td>\n",
       "      <td>21</td>\n",
       "    </tr>\n",
       "    <tr>\n",
       "      <th>8599</th>\n",
       "      <td>c_999</td>\n",
       "      <td>m</td>\n",
       "      <td>58</td>\n",
       "    </tr>\n",
       "  </tbody>\n",
       "</table>\n",
       "<p>8600 rows × 3 columns</p>\n",
       "</div>"
      ],
      "text/plain": [
       "     client_id sex  age\n",
       "0          c_1   m   67\n",
       "1         c_10   m   66\n",
       "2        c_100   m   30\n",
       "3       c_1000   f   56\n",
       "4       c_1001   m   40\n",
       "...        ...  ..  ...\n",
       "8595     c_995   m   67\n",
       "8596     c_996   f   52\n",
       "8597     c_997   f   28\n",
       "8598     c_998   m   21\n",
       "8599     c_999   m   58\n",
       "\n",
       "[8600 rows x 3 columns]"
      ]
     },
     "execution_count": 9,
     "metadata": {},
     "output_type": "execute_result"
    }
   ],
   "source": [
    "clientid = data.groupby(['client_id', 'sex', 'age']).sum().reset_index()\n",
    "clientid = clientid.drop(['birth','price','categ'], axis = 1)\n",
    "clientid"
   ]
  },
  {
   "cell_type": "markdown",
   "metadata": {},
   "source": [
    "# Montant"
   ]
  },
  {
   "cell_type": "code",
   "execution_count": 10,
   "metadata": {},
   "outputs": [
    {
     "data": {
      "text/html": [
       "<div>\n",
       "<style scoped>\n",
       "    .dataframe tbody tr th:only-of-type {\n",
       "        vertical-align: middle;\n",
       "    }\n",
       "\n",
       "    .dataframe tbody tr th {\n",
       "        vertical-align: top;\n",
       "    }\n",
       "\n",
       "    .dataframe thead th {\n",
       "        text-align: right;\n",
       "    }\n",
       "</style>\n",
       "<table border=\"1\" class=\"dataframe\">\n",
       "  <thead>\n",
       "    <tr style=\"text-align: right;\">\n",
       "      <th></th>\n",
       "      <th>client_id</th>\n",
       "      <th>Montant</th>\n",
       "    </tr>\n",
       "  </thead>\n",
       "  <tbody>\n",
       "    <tr>\n",
       "      <th>0</th>\n",
       "      <td>c_1</td>\n",
       "      <td>300.65</td>\n",
       "    </tr>\n",
       "    <tr>\n",
       "      <th>1</th>\n",
       "      <td>c_10</td>\n",
       "      <td>586.18</td>\n",
       "    </tr>\n",
       "    <tr>\n",
       "      <th>2</th>\n",
       "      <td>c_100</td>\n",
       "      <td>222.87</td>\n",
       "    </tr>\n",
       "    <tr>\n",
       "      <th>3</th>\n",
       "      <td>c_1000</td>\n",
       "      <td>980.02</td>\n",
       "    </tr>\n",
       "    <tr>\n",
       "      <th>4</th>\n",
       "      <td>c_1001</td>\n",
       "      <td>1102.45</td>\n",
       "    </tr>\n",
       "    <tr>\n",
       "      <th>...</th>\n",
       "      <td>...</td>\n",
       "      <td>...</td>\n",
       "    </tr>\n",
       "    <tr>\n",
       "      <th>8595</th>\n",
       "      <td>c_995</td>\n",
       "      <td>119.08</td>\n",
       "    </tr>\n",
       "    <tr>\n",
       "      <th>8596</th>\n",
       "      <td>c_996</td>\n",
       "      <td>739.60</td>\n",
       "    </tr>\n",
       "    <tr>\n",
       "      <th>8597</th>\n",
       "      <td>c_997</td>\n",
       "      <td>572.89</td>\n",
       "    </tr>\n",
       "    <tr>\n",
       "      <th>8598</th>\n",
       "      <td>c_998</td>\n",
       "      <td>1527.69</td>\n",
       "    </tr>\n",
       "    <tr>\n",
       "      <th>8599</th>\n",
       "      <td>c_999</td>\n",
       "      <td>305.00</td>\n",
       "    </tr>\n",
       "  </tbody>\n",
       "</table>\n",
       "<p>8600 rows × 2 columns</p>\n",
       "</div>"
      ],
      "text/plain": [
       "     client_id  Montant\n",
       "0          c_1   300.65\n",
       "1         c_10   586.18\n",
       "2        c_100   222.87\n",
       "3       c_1000   980.02\n",
       "4       c_1001  1102.45\n",
       "...        ...      ...\n",
       "8595     c_995   119.08\n",
       "8596     c_996   739.60\n",
       "8597     c_997   572.89\n",
       "8598     c_998  1527.69\n",
       "8599     c_999   305.00\n",
       "\n",
       "[8600 rows x 2 columns]"
      ]
     },
     "execution_count": 10,
     "metadata": {},
     "output_type": "execute_result"
    }
   ],
   "source": [
    "montant = data.groupby('client_id')[['price']].sum()\n",
    "montant.columns = ['Montant']\n",
    "montant = montant.reset_index()\n",
    "montant"
   ]
  },
  {
   "cell_type": "markdown",
   "metadata": {},
   "source": [
    "# Panier moyen et Fréquence"
   ]
  },
  {
   "cell_type": "code",
   "execution_count": 11,
   "metadata": {},
   "outputs": [
    {
     "data": {
      "text/html": [
       "<div>\n",
       "<style scoped>\n",
       "    .dataframe tbody tr th:only-of-type {\n",
       "        vertical-align: middle;\n",
       "    }\n",
       "\n",
       "    .dataframe tbody tr th {\n",
       "        vertical-align: top;\n",
       "    }\n",
       "\n",
       "    .dataframe thead th {\n",
       "        text-align: right;\n",
       "    }\n",
       "</style>\n",
       "<table border=\"1\" class=\"dataframe\">\n",
       "  <thead>\n",
       "    <tr style=\"text-align: right;\">\n",
       "      <th></th>\n",
       "      <th>panier_moyen</th>\n",
       "      <th>frequence</th>\n",
       "    </tr>\n",
       "    <tr>\n",
       "      <th>client_id</th>\n",
       "      <th></th>\n",
       "      <th></th>\n",
       "    </tr>\n",
       "  </thead>\n",
       "  <tbody>\n",
       "    <tr>\n",
       "      <th>c_1</th>\n",
       "      <td>20.043333</td>\n",
       "      <td>15</td>\n",
       "    </tr>\n",
       "    <tr>\n",
       "      <th>c_10</th>\n",
       "      <td>36.636250</td>\n",
       "      <td>16</td>\n",
       "    </tr>\n",
       "    <tr>\n",
       "      <th>c_100</th>\n",
       "      <td>74.290000</td>\n",
       "      <td>3</td>\n",
       "    </tr>\n",
       "    <tr>\n",
       "      <th>c_1000</th>\n",
       "      <td>23.333810</td>\n",
       "      <td>42</td>\n",
       "    </tr>\n",
       "    <tr>\n",
       "      <th>c_1001</th>\n",
       "      <td>45.935417</td>\n",
       "      <td>24</td>\n",
       "    </tr>\n",
       "    <tr>\n",
       "      <th>...</th>\n",
       "      <td>...</td>\n",
       "      <td>...</td>\n",
       "    </tr>\n",
       "    <tr>\n",
       "      <th>c_995</th>\n",
       "      <td>23.816000</td>\n",
       "      <td>5</td>\n",
       "    </tr>\n",
       "    <tr>\n",
       "      <th>c_996</th>\n",
       "      <td>20.544444</td>\n",
       "      <td>36</td>\n",
       "    </tr>\n",
       "    <tr>\n",
       "      <th>c_997</th>\n",
       "      <td>57.289000</td>\n",
       "      <td>10</td>\n",
       "    </tr>\n",
       "    <tr>\n",
       "      <th>c_998</th>\n",
       "      <td>117.514615</td>\n",
       "      <td>13</td>\n",
       "    </tr>\n",
       "    <tr>\n",
       "      <th>c_999</th>\n",
       "      <td>14.523810</td>\n",
       "      <td>21</td>\n",
       "    </tr>\n",
       "  </tbody>\n",
       "</table>\n",
       "<p>8600 rows × 2 columns</p>\n",
       "</div>"
      ],
      "text/plain": [
       "           panier_moyen  frequence\n",
       "client_id                         \n",
       "c_1           20.043333         15\n",
       "c_10          36.636250         16\n",
       "c_100         74.290000          3\n",
       "c_1000        23.333810         42\n",
       "c_1001        45.935417         24\n",
       "...                 ...        ...\n",
       "c_995         23.816000          5\n",
       "c_996         20.544444         36\n",
       "c_997         57.289000         10\n",
       "c_998        117.514615         13\n",
       "c_999         14.523810         21\n",
       "\n",
       "[8600 rows x 2 columns]"
      ]
     },
     "execution_count": 11,
     "metadata": {},
     "output_type": "execute_result"
    }
   ],
   "source": [
    "#Panier_moyen = data.groupby('client_id')[['price']].mean()\n",
    "#Panier_moyen.columns = ['Panier_moyen']\n",
    "#Panier_moyen = Panier_moyen.reset_index()\n",
    "#Panier_moyen\n",
    "panier_moyen_et_frequence =  data.groupby([\"client_id\",\"session_id\"]).agg(montant = ('price', 'sum')).reset_index()\\\n",
    "                    .groupby(\"client_id\").agg(panier_moyen= ('montant',\"mean\"),\n",
    "                                frequence = ('session_id','count'))             \n",
    "panier_moyen_et_frequence"
   ]
  },
  {
   "cell_type": "markdown",
   "metadata": {},
   "source": [
    "# Tranche d'Age"
   ]
  },
  {
   "cell_type": "code",
   "execution_count": 12,
   "metadata": {
    "id": "PeeZyzSYmxSc"
   },
   "outputs": [
    {
     "data": {
      "text/html": [
       "<div>\n",
       "<style scoped>\n",
       "    .dataframe tbody tr th:only-of-type {\n",
       "        vertical-align: middle;\n",
       "    }\n",
       "\n",
       "    .dataframe tbody tr th {\n",
       "        vertical-align: top;\n",
       "    }\n",
       "\n",
       "    .dataframe thead th {\n",
       "        text-align: right;\n",
       "    }\n",
       "</style>\n",
       "<table border=\"1\" class=\"dataframe\">\n",
       "  <thead>\n",
       "    <tr style=\"text-align: right;\">\n",
       "      <th></th>\n",
       "      <th>client_id</th>\n",
       "      <th>Tranche-d_age</th>\n",
       "    </tr>\n",
       "  </thead>\n",
       "  <tbody>\n",
       "    <tr>\n",
       "      <th>0</th>\n",
       "      <td>c_1</td>\n",
       "      <td>(60, 70]</td>\n",
       "    </tr>\n",
       "    <tr>\n",
       "      <th>1</th>\n",
       "      <td>c_10</td>\n",
       "      <td>(60, 70]</td>\n",
       "    </tr>\n",
       "    <tr>\n",
       "      <th>2</th>\n",
       "      <td>c_100</td>\n",
       "      <td>(20, 30]</td>\n",
       "    </tr>\n",
       "    <tr>\n",
       "      <th>3</th>\n",
       "      <td>c_1000</td>\n",
       "      <td>(50, 60]</td>\n",
       "    </tr>\n",
       "    <tr>\n",
       "      <th>4</th>\n",
       "      <td>c_1001</td>\n",
       "      <td>(30, 40]</td>\n",
       "    </tr>\n",
       "    <tr>\n",
       "      <th>...</th>\n",
       "      <td>...</td>\n",
       "      <td>...</td>\n",
       "    </tr>\n",
       "    <tr>\n",
       "      <th>8595</th>\n",
       "      <td>c_995</td>\n",
       "      <td>(60, 70]</td>\n",
       "    </tr>\n",
       "    <tr>\n",
       "      <th>8596</th>\n",
       "      <td>c_996</td>\n",
       "      <td>(50, 60]</td>\n",
       "    </tr>\n",
       "    <tr>\n",
       "      <th>8597</th>\n",
       "      <td>c_997</td>\n",
       "      <td>(20, 30]</td>\n",
       "    </tr>\n",
       "    <tr>\n",
       "      <th>8598</th>\n",
       "      <td>c_998</td>\n",
       "      <td>(20, 30]</td>\n",
       "    </tr>\n",
       "    <tr>\n",
       "      <th>8599</th>\n",
       "      <td>c_999</td>\n",
       "      <td>(50, 60]</td>\n",
       "    </tr>\n",
       "  </tbody>\n",
       "</table>\n",
       "<p>8600 rows × 2 columns</p>\n",
       "</div>"
      ],
      "text/plain": [
       "     client_id Tranche-d_age\n",
       "0          c_1      (60, 70]\n",
       "1         c_10      (60, 70]\n",
       "2        c_100      (20, 30]\n",
       "3       c_1000      (50, 60]\n",
       "4       c_1001      (30, 40]\n",
       "...        ...           ...\n",
       "8595     c_995      (60, 70]\n",
       "8596     c_996      (50, 60]\n",
       "8597     c_997      (20, 30]\n",
       "8598     c_998      (20, 30]\n",
       "8599     c_999      (50, 60]\n",
       "\n",
       "[8600 rows x 2 columns]"
      ]
     },
     "execution_count": 12,
     "metadata": {},
     "output_type": "execute_result"
    }
   ],
   "source": [
    "age = data.groupby('client_id')['age'].mean()\n",
    "agegroupe = pd.cut(x=age, bins=[1,10,20,30,40,50,60,70,80,90,100])\n",
    "agegroupe = pd.DataFrame(agegroupe)\n",
    "agegroupe.columns = ['Tranche-d_age']\n",
    "agegroupe.reset_index()\n"
   ]
  },
  {
   "cell_type": "markdown",
   "metadata": {},
   "source": [
    "# Montant catégorie "
   ]
  },
  {
   "cell_type": "code",
   "execution_count": 13,
   "metadata": {},
   "outputs": [
    {
     "data": {
      "text/html": [
       "<div>\n",
       "<style scoped>\n",
       "    .dataframe tbody tr th:only-of-type {\n",
       "        vertical-align: middle;\n",
       "    }\n",
       "\n",
       "    .dataframe tbody tr th {\n",
       "        vertical-align: top;\n",
       "    }\n",
       "\n",
       "    .dataframe thead th {\n",
       "        text-align: right;\n",
       "    }\n",
       "</style>\n",
       "<table border=\"1\" class=\"dataframe\">\n",
       "  <thead>\n",
       "    <tr style=\"text-align: right;\">\n",
       "      <th></th>\n",
       "      <th>client_id</th>\n",
       "      <th>montant_categ_O</th>\n",
       "      <th>montant_categ_1</th>\n",
       "      <th>montant_categ_2</th>\n",
       "    </tr>\n",
       "  </thead>\n",
       "  <tbody>\n",
       "    <tr>\n",
       "      <th>0</th>\n",
       "      <td>c_1</td>\n",
       "      <td>174.20</td>\n",
       "      <td>71.58</td>\n",
       "      <td>54.87</td>\n",
       "    </tr>\n",
       "    <tr>\n",
       "      <th>1</th>\n",
       "      <td>c_10</td>\n",
       "      <td>124.92</td>\n",
       "      <td>391.27</td>\n",
       "      <td>69.99</td>\n",
       "    </tr>\n",
       "    <tr>\n",
       "      <th>2</th>\n",
       "      <td>c_100</td>\n",
       "      <td>31.38</td>\n",
       "      <td>52.96</td>\n",
       "      <td>138.53</td>\n",
       "    </tr>\n",
       "    <tr>\n",
       "      <th>3</th>\n",
       "      <td>c_1000</td>\n",
       "      <td>169.85</td>\n",
       "      <td>810.17</td>\n",
       "      <td>0.00</td>\n",
       "    </tr>\n",
       "    <tr>\n",
       "      <th>4</th>\n",
       "      <td>c_1001</td>\n",
       "      <td>527.81</td>\n",
       "      <td>274.64</td>\n",
       "      <td>300.00</td>\n",
       "    </tr>\n",
       "    <tr>\n",
       "      <th>...</th>\n",
       "      <td>...</td>\n",
       "      <td>...</td>\n",
       "      <td>...</td>\n",
       "      <td>...</td>\n",
       "    </tr>\n",
       "    <tr>\n",
       "      <th>8595</th>\n",
       "      <td>c_995</td>\n",
       "      <td>55.34</td>\n",
       "      <td>63.74</td>\n",
       "      <td>0.00</td>\n",
       "    </tr>\n",
       "    <tr>\n",
       "      <th>8596</th>\n",
       "      <td>c_996</td>\n",
       "      <td>204.70</td>\n",
       "      <td>534.90</td>\n",
       "      <td>0.00</td>\n",
       "    </tr>\n",
       "    <tr>\n",
       "      <th>8597</th>\n",
       "      <td>c_997</td>\n",
       "      <td>84.86</td>\n",
       "      <td>158.92</td>\n",
       "      <td>329.11</td>\n",
       "    </tr>\n",
       "    <tr>\n",
       "      <th>8598</th>\n",
       "      <td>c_998</td>\n",
       "      <td>88.17</td>\n",
       "      <td>108.06</td>\n",
       "      <td>1331.46</td>\n",
       "    </tr>\n",
       "    <tr>\n",
       "      <th>8599</th>\n",
       "      <td>c_999</td>\n",
       "      <td>92.65</td>\n",
       "      <td>212.35</td>\n",
       "      <td>0.00</td>\n",
       "    </tr>\n",
       "  </tbody>\n",
       "</table>\n",
       "<p>8600 rows × 4 columns</p>\n",
       "</div>"
      ],
      "text/plain": [
       "     client_id  montant_categ_O  montant_categ_1  montant_categ_2\n",
       "0          c_1           174.20            71.58            54.87\n",
       "1         c_10           124.92           391.27            69.99\n",
       "2        c_100            31.38            52.96           138.53\n",
       "3       c_1000           169.85           810.17             0.00\n",
       "4       c_1001           527.81           274.64           300.00\n",
       "...        ...              ...              ...              ...\n",
       "8595     c_995            55.34            63.74             0.00\n",
       "8596     c_996           204.70           534.90             0.00\n",
       "8597     c_997            84.86           158.92           329.11\n",
       "8598     c_998            88.17           108.06          1331.46\n",
       "8599     c_999            92.65           212.35             0.00\n",
       "\n",
       "[8600 rows x 4 columns]"
      ]
     },
     "execution_count": 13,
     "metadata": {},
     "output_type": "execute_result"
    }
   ],
   "source": [
    "categ = pd.pivot_table(data, index=['client_id'], values = ['price'],columns=['categ'],  aggfunc=sum, fill_value=0)\n",
    "categ.columns = ['montant_categ_O','montant_categ_1','montant_categ_2']\n",
    "categ = categ.reset_index()\n",
    "categ"
   ]
  },
  {
   "cell_type": "markdown",
   "metadata": {},
   "source": [
    "# Recence"
   ]
  },
  {
   "cell_type": "code",
   "execution_count": 14,
   "metadata": {},
   "outputs": [],
   "source": [
    "from datetime import datetime \n",
    "data['date'] = data['date'].apply(pd.to_datetime)"
   ]
  },
  {
   "cell_type": "code",
   "execution_count": 15,
   "metadata": {},
   "outputs": [
    {
     "data": {
      "text/html": [
       "<div>\n",
       "<style scoped>\n",
       "    .dataframe tbody tr th:only-of-type {\n",
       "        vertical-align: middle;\n",
       "    }\n",
       "\n",
       "    .dataframe tbody tr th {\n",
       "        vertical-align: top;\n",
       "    }\n",
       "\n",
       "    .dataframe thead th {\n",
       "        text-align: right;\n",
       "    }\n",
       "</style>\n",
       "<table border=\"1\" class=\"dataframe\">\n",
       "  <thead>\n",
       "    <tr style=\"text-align: right;\">\n",
       "      <th></th>\n",
       "      <th>client_id</th>\n",
       "      <th>recence</th>\n",
       "    </tr>\n",
       "  </thead>\n",
       "  <tbody>\n",
       "    <tr>\n",
       "      <th>0</th>\n",
       "      <td>c_1</td>\n",
       "      <td>27.0</td>\n",
       "    </tr>\n",
       "    <tr>\n",
       "      <th>1</th>\n",
       "      <td>c_10</td>\n",
       "      <td>76.0</td>\n",
       "    </tr>\n",
       "    <tr>\n",
       "      <th>2</th>\n",
       "      <td>c_100</td>\n",
       "      <td>202.0</td>\n",
       "    </tr>\n",
       "    <tr>\n",
       "      <th>3</th>\n",
       "      <td>c_1000</td>\n",
       "      <td>0.0</td>\n",
       "    </tr>\n",
       "    <tr>\n",
       "      <th>4</th>\n",
       "      <td>c_1001</td>\n",
       "      <td>2.0</td>\n",
       "    </tr>\n",
       "    <tr>\n",
       "      <th>...</th>\n",
       "      <td>...</td>\n",
       "      <td>...</td>\n",
       "    </tr>\n",
       "    <tr>\n",
       "      <th>8595</th>\n",
       "      <td>c_995</td>\n",
       "      <td>116.0</td>\n",
       "    </tr>\n",
       "    <tr>\n",
       "      <th>8596</th>\n",
       "      <td>c_996</td>\n",
       "      <td>22.0</td>\n",
       "    </tr>\n",
       "    <tr>\n",
       "      <th>8597</th>\n",
       "      <td>c_997</td>\n",
       "      <td>54.0</td>\n",
       "    </tr>\n",
       "    <tr>\n",
       "      <th>8598</th>\n",
       "      <td>c_998</td>\n",
       "      <td>5.0</td>\n",
       "    </tr>\n",
       "    <tr>\n",
       "      <th>8599</th>\n",
       "      <td>c_999</td>\n",
       "      <td>6.0</td>\n",
       "    </tr>\n",
       "  </tbody>\n",
       "</table>\n",
       "<p>8600 rows × 2 columns</p>\n",
       "</div>"
      ],
      "text/plain": [
       "     client_id  recence\n",
       "0          c_1     27.0\n",
       "1         c_10     76.0\n",
       "2        c_100    202.0\n",
       "3       c_1000      0.0\n",
       "4       c_1001      2.0\n",
       "...        ...      ...\n",
       "8595     c_995    116.0\n",
       "8596     c_996     22.0\n",
       "8597     c_997     54.0\n",
       "8598     c_998      5.0\n",
       "8599     c_999      6.0\n",
       "\n",
       "[8600 rows x 2 columns]"
      ]
     },
     "execution_count": 15,
     "metadata": {},
     "output_type": "execute_result"
    }
   ],
   "source": [
    "date_format = \"%m/%d/%Y\"\n",
    "a = data['date']\n",
    "b = max(data['date'])\n",
    "data['recence'] = b-a\n",
    "data['recence'] = data['recence'].astype('timedelta64[D]')\n",
    "recence = data.groupby('client_id')['recence'].min()\n",
    "recence = pd.DataFrame(recence).reset_index()\n",
    "recence"
   ]
  },
  {
   "cell_type": "markdown",
   "metadata": {},
   "source": [
    "# Création du nouveau dataframe par client"
   ]
  },
  {
   "cell_type": "code",
   "execution_count": 16,
   "metadata": {},
   "outputs": [
    {
     "data": {
      "text/html": [
       "<div>\n",
       "<style scoped>\n",
       "    .dataframe tbody tr th:only-of-type {\n",
       "        vertical-align: middle;\n",
       "    }\n",
       "\n",
       "    .dataframe tbody tr th {\n",
       "        vertical-align: top;\n",
       "    }\n",
       "\n",
       "    .dataframe thead th {\n",
       "        text-align: right;\n",
       "    }\n",
       "</style>\n",
       "<table border=\"1\" class=\"dataframe\">\n",
       "  <thead>\n",
       "    <tr style=\"text-align: right;\">\n",
       "      <th></th>\n",
       "      <th>client_id</th>\n",
       "      <th>sex</th>\n",
       "      <th>age</th>\n",
       "      <th>Montant</th>\n",
       "      <th>panier_moyen</th>\n",
       "      <th>frequence</th>\n",
       "      <th>Tranche-d_age</th>\n",
       "      <th>montant_categ_O</th>\n",
       "      <th>montant_categ_1</th>\n",
       "      <th>montant_categ_2</th>\n",
       "      <th>recence</th>\n",
       "    </tr>\n",
       "  </thead>\n",
       "  <tbody>\n",
       "    <tr>\n",
       "      <th>0</th>\n",
       "      <td>c_1</td>\n",
       "      <td>m</td>\n",
       "      <td>67</td>\n",
       "      <td>300.65</td>\n",
       "      <td>20.043333</td>\n",
       "      <td>15</td>\n",
       "      <td>(60, 70]</td>\n",
       "      <td>174.20</td>\n",
       "      <td>71.58</td>\n",
       "      <td>54.87</td>\n",
       "      <td>27.0</td>\n",
       "    </tr>\n",
       "    <tr>\n",
       "      <th>1</th>\n",
       "      <td>c_10</td>\n",
       "      <td>m</td>\n",
       "      <td>66</td>\n",
       "      <td>586.18</td>\n",
       "      <td>36.636250</td>\n",
       "      <td>16</td>\n",
       "      <td>(60, 70]</td>\n",
       "      <td>124.92</td>\n",
       "      <td>391.27</td>\n",
       "      <td>69.99</td>\n",
       "      <td>76.0</td>\n",
       "    </tr>\n",
       "    <tr>\n",
       "      <th>2</th>\n",
       "      <td>c_100</td>\n",
       "      <td>m</td>\n",
       "      <td>30</td>\n",
       "      <td>222.87</td>\n",
       "      <td>74.290000</td>\n",
       "      <td>3</td>\n",
       "      <td>(20, 30]</td>\n",
       "      <td>31.38</td>\n",
       "      <td>52.96</td>\n",
       "      <td>138.53</td>\n",
       "      <td>202.0</td>\n",
       "    </tr>\n",
       "    <tr>\n",
       "      <th>3</th>\n",
       "      <td>c_1000</td>\n",
       "      <td>f</td>\n",
       "      <td>56</td>\n",
       "      <td>980.02</td>\n",
       "      <td>23.333810</td>\n",
       "      <td>42</td>\n",
       "      <td>(50, 60]</td>\n",
       "      <td>169.85</td>\n",
       "      <td>810.17</td>\n",
       "      <td>0.00</td>\n",
       "      <td>0.0</td>\n",
       "    </tr>\n",
       "    <tr>\n",
       "      <th>4</th>\n",
       "      <td>c_1001</td>\n",
       "      <td>m</td>\n",
       "      <td>40</td>\n",
       "      <td>1102.45</td>\n",
       "      <td>45.935417</td>\n",
       "      <td>24</td>\n",
       "      <td>(30, 40]</td>\n",
       "      <td>527.81</td>\n",
       "      <td>274.64</td>\n",
       "      <td>300.00</td>\n",
       "      <td>2.0</td>\n",
       "    </tr>\n",
       "    <tr>\n",
       "      <th>...</th>\n",
       "      <td>...</td>\n",
       "      <td>...</td>\n",
       "      <td>...</td>\n",
       "      <td>...</td>\n",
       "      <td>...</td>\n",
       "      <td>...</td>\n",
       "      <td>...</td>\n",
       "      <td>...</td>\n",
       "      <td>...</td>\n",
       "      <td>...</td>\n",
       "      <td>...</td>\n",
       "    </tr>\n",
       "    <tr>\n",
       "      <th>8595</th>\n",
       "      <td>c_995</td>\n",
       "      <td>m</td>\n",
       "      <td>67</td>\n",
       "      <td>119.08</td>\n",
       "      <td>23.816000</td>\n",
       "      <td>5</td>\n",
       "      <td>(60, 70]</td>\n",
       "      <td>55.34</td>\n",
       "      <td>63.74</td>\n",
       "      <td>0.00</td>\n",
       "      <td>116.0</td>\n",
       "    </tr>\n",
       "    <tr>\n",
       "      <th>8596</th>\n",
       "      <td>c_996</td>\n",
       "      <td>f</td>\n",
       "      <td>52</td>\n",
       "      <td>739.60</td>\n",
       "      <td>20.544444</td>\n",
       "      <td>36</td>\n",
       "      <td>(50, 60]</td>\n",
       "      <td>204.70</td>\n",
       "      <td>534.90</td>\n",
       "      <td>0.00</td>\n",
       "      <td>22.0</td>\n",
       "    </tr>\n",
       "    <tr>\n",
       "      <th>8597</th>\n",
       "      <td>c_997</td>\n",
       "      <td>f</td>\n",
       "      <td>28</td>\n",
       "      <td>572.89</td>\n",
       "      <td>57.289000</td>\n",
       "      <td>10</td>\n",
       "      <td>(20, 30]</td>\n",
       "      <td>84.86</td>\n",
       "      <td>158.92</td>\n",
       "      <td>329.11</td>\n",
       "      <td>54.0</td>\n",
       "    </tr>\n",
       "    <tr>\n",
       "      <th>8598</th>\n",
       "      <td>c_998</td>\n",
       "      <td>m</td>\n",
       "      <td>21</td>\n",
       "      <td>1527.69</td>\n",
       "      <td>117.514615</td>\n",
       "      <td>13</td>\n",
       "      <td>(20, 30]</td>\n",
       "      <td>88.17</td>\n",
       "      <td>108.06</td>\n",
       "      <td>1331.46</td>\n",
       "      <td>5.0</td>\n",
       "    </tr>\n",
       "    <tr>\n",
       "      <th>8599</th>\n",
       "      <td>c_999</td>\n",
       "      <td>m</td>\n",
       "      <td>58</td>\n",
       "      <td>305.00</td>\n",
       "      <td>14.523810</td>\n",
       "      <td>21</td>\n",
       "      <td>(50, 60]</td>\n",
       "      <td>92.65</td>\n",
       "      <td>212.35</td>\n",
       "      <td>0.00</td>\n",
       "      <td>6.0</td>\n",
       "    </tr>\n",
       "  </tbody>\n",
       "</table>\n",
       "<p>8600 rows × 11 columns</p>\n",
       "</div>"
      ],
      "text/plain": [
       "     client_id sex  age  Montant  panier_moyen  frequence Tranche-d_age  \\\n",
       "0          c_1   m   67   300.65     20.043333         15      (60, 70]   \n",
       "1         c_10   m   66   586.18     36.636250         16      (60, 70]   \n",
       "2        c_100   m   30   222.87     74.290000          3      (20, 30]   \n",
       "3       c_1000   f   56   980.02     23.333810         42      (50, 60]   \n",
       "4       c_1001   m   40  1102.45     45.935417         24      (30, 40]   \n",
       "...        ...  ..  ...      ...           ...        ...           ...   \n",
       "8595     c_995   m   67   119.08     23.816000          5      (60, 70]   \n",
       "8596     c_996   f   52   739.60     20.544444         36      (50, 60]   \n",
       "8597     c_997   f   28   572.89     57.289000         10      (20, 30]   \n",
       "8598     c_998   m   21  1527.69    117.514615         13      (20, 30]   \n",
       "8599     c_999   m   58   305.00     14.523810         21      (50, 60]   \n",
       "\n",
       "      montant_categ_O  montant_categ_1  montant_categ_2  recence  \n",
       "0              174.20            71.58            54.87     27.0  \n",
       "1              124.92           391.27            69.99     76.0  \n",
       "2               31.38            52.96           138.53    202.0  \n",
       "3              169.85           810.17             0.00      0.0  \n",
       "4              527.81           274.64           300.00      2.0  \n",
       "...               ...              ...              ...      ...  \n",
       "8595            55.34            63.74             0.00    116.0  \n",
       "8596           204.70           534.90             0.00     22.0  \n",
       "8597            84.86           158.92           329.11     54.0  \n",
       "8598            88.17           108.06          1331.46      5.0  \n",
       "8599            92.65           212.35             0.00      6.0  \n",
       "\n",
       "[8600 rows x 11 columns]"
      ]
     },
     "execution_count": 16,
     "metadata": {},
     "output_type": "execute_result"
    }
   ],
   "source": [
    "Data_client_id = clientid.merge(montant, left_on='client_id',right_on = 'client_id',how ='left')\n",
    "Data_client_id = Data_client_id.merge(panier_moyen_et_frequence, left_on='client_id',right_on = 'client_id',how ='left')\n",
    "Data_client_id = Data_client_id.merge(agegroupe, left_on='client_id',right_on = 'client_id',how ='left')\n",
    "Data_client_id = Data_client_id.merge(categ, left_on='client_id',right_on = 'client_id',how ='left')\n",
    "Data_client_id = Data_client_id.merge(recence, left_on='client_id',right_on = 'client_id',how ='left')\n",
    "\n",
    "Data_client_id"
   ]
  },
  {
   "cell_type": "code",
   "execution_count": 17,
   "metadata": {},
   "outputs": [],
   "source": [
    "Data_client_id.to_csv('data_librairies_client.csv')"
   ]
  },
  {
   "cell_type": "markdown",
   "metadata": {
    "id": "fIi6hj5qmxSe"
   },
   "source": [
    "### Centrer/Réduire les données"
   ]
  },
  {
   "cell_type": "markdown",
   "metadata": {
    "id": "4-H9Vm7lmxSe"
   },
   "source": [
    "Petite veille sur le sujet avant de se lancer : https://mrmint.fr/data-preprocessing-feature-scaling-python   \n",
    "Mais n'oubliez pas de faire aussi vos propres recherches."
   ]
  },
  {
   "cell_type": "markdown",
   "metadata": {
    "id": "85TRLVKqmxSe"
   },
   "source": [
    "Créer le dataset avec les données centrées et réduites."
   ]
  },
  {
   "cell_type": "code",
   "execution_count": 18,
   "metadata": {
    "id": "VRf3B3pjmxSf"
   },
   "outputs": [
    {
     "data": {
      "text/html": [
       "<div>\n",
       "<style scoped>\n",
       "    .dataframe tbody tr th:only-of-type {\n",
       "        vertical-align: middle;\n",
       "    }\n",
       "\n",
       "    .dataframe tbody tr th {\n",
       "        vertical-align: top;\n",
       "    }\n",
       "\n",
       "    .dataframe thead th {\n",
       "        text-align: right;\n",
       "    }\n",
       "</style>\n",
       "<table border=\"1\" class=\"dataframe\">\n",
       "  <thead>\n",
       "    <tr style=\"text-align: right;\">\n",
       "      <th></th>\n",
       "      <th>client_id</th>\n",
       "      <th>sex</th>\n",
       "      <th>age</th>\n",
       "      <th>Montant</th>\n",
       "      <th>panier_moyen</th>\n",
       "      <th>frequence</th>\n",
       "      <th>Tranche-d_age</th>\n",
       "      <th>montant_categ_O</th>\n",
       "      <th>montant_categ_1</th>\n",
       "      <th>montant_categ_2</th>\n",
       "      <th>recence</th>\n",
       "    </tr>\n",
       "  </thead>\n",
       "  <tbody>\n",
       "    <tr>\n",
       "      <th>0</th>\n",
       "      <td>c_1</td>\n",
       "      <td>m</td>\n",
       "      <td>1.375740</td>\n",
       "      <td>-0.145524</td>\n",
       "      <td>-0.886085</td>\n",
       "      <td>-0.065034</td>\n",
       "      <td>(60, 70]</td>\n",
       "      <td>-0.067417</td>\n",
       "      <td>-0.224196</td>\n",
       "      <td>-0.071303</td>\n",
       "      <td>-0.102653</td>\n",
       "    </tr>\n",
       "    <tr>\n",
       "      <th>1</th>\n",
       "      <td>c_10</td>\n",
       "      <td>m</td>\n",
       "      <td>1.316596</td>\n",
       "      <td>-0.034237</td>\n",
       "      <td>-0.153254</td>\n",
       "      <td>-0.051112</td>\n",
       "      <td>(60, 70]</td>\n",
       "      <td>-0.106470</td>\n",
       "      <td>0.153541</td>\n",
       "      <td>-0.060364</td>\n",
       "      <td>0.983415</td>\n",
       "    </tr>\n",
       "    <tr>\n",
       "      <th>2</th>\n",
       "      <td>c_100</td>\n",
       "      <td>m</td>\n",
       "      <td>-0.812603</td>\n",
       "      <td>-0.175839</td>\n",
       "      <td>1.509736</td>\n",
       "      <td>-0.232100</td>\n",
       "      <td>(20, 30]</td>\n",
       "      <td>-0.180599</td>\n",
       "      <td>-0.246197</td>\n",
       "      <td>-0.010777</td>\n",
       "      <td>3.776163</td>\n",
       "    </tr>\n",
       "    <tr>\n",
       "      <th>3</th>\n",
       "      <td>c_1000</td>\n",
       "      <td>f</td>\n",
       "      <td>0.725152</td>\n",
       "      <td>0.119265</td>\n",
       "      <td>-0.740760</td>\n",
       "      <td>0.310864</td>\n",
       "      <td>(50, 60]</td>\n",
       "      <td>-0.070864</td>\n",
       "      <td>0.648503</td>\n",
       "      <td>-0.110999</td>\n",
       "      <td>-0.701099</td>\n",
       "    </tr>\n",
       "    <tr>\n",
       "      <th>4</th>\n",
       "      <td>c_1001</td>\n",
       "      <td>m</td>\n",
       "      <td>-0.221159</td>\n",
       "      <td>0.166983</td>\n",
       "      <td>0.257447</td>\n",
       "      <td>0.060265</td>\n",
       "      <td>(30, 40]</td>\n",
       "      <td>0.212814</td>\n",
       "      <td>0.015734</td>\n",
       "      <td>0.106041</td>\n",
       "      <td>-0.656770</td>\n",
       "    </tr>\n",
       "    <tr>\n",
       "      <th>...</th>\n",
       "      <td>...</td>\n",
       "      <td>...</td>\n",
       "      <td>...</td>\n",
       "      <td>...</td>\n",
       "      <td>...</td>\n",
       "      <td>...</td>\n",
       "      <td>...</td>\n",
       "      <td>...</td>\n",
       "      <td>...</td>\n",
       "      <td>...</td>\n",
       "      <td>...</td>\n",
       "    </tr>\n",
       "    <tr>\n",
       "      <th>8595</th>\n",
       "      <td>c_995</td>\n",
       "      <td>m</td>\n",
       "      <td>1.375740</td>\n",
       "      <td>-0.216292</td>\n",
       "      <td>-0.719464</td>\n",
       "      <td>-0.204256</td>\n",
       "      <td>(60, 70]</td>\n",
       "      <td>-0.161611</td>\n",
       "      <td>-0.233460</td>\n",
       "      <td>-0.110999</td>\n",
       "      <td>1.870002</td>\n",
       "    </tr>\n",
       "    <tr>\n",
       "      <th>8596</th>\n",
       "      <td>c_996</td>\n",
       "      <td>f</td>\n",
       "      <td>0.488574</td>\n",
       "      <td>0.025560</td>\n",
       "      <td>-0.863953</td>\n",
       "      <td>0.227331</td>\n",
       "      <td>(50, 60]</td>\n",
       "      <td>-0.043246</td>\n",
       "      <td>0.323251</td>\n",
       "      <td>-0.110999</td>\n",
       "      <td>-0.213477</td>\n",
       "    </tr>\n",
       "    <tr>\n",
       "      <th>8597</th>\n",
       "      <td>c_997</td>\n",
       "      <td>f</td>\n",
       "      <td>-0.930892</td>\n",
       "      <td>-0.039416</td>\n",
       "      <td>0.758881</td>\n",
       "      <td>-0.134645</td>\n",
       "      <td>(20, 30]</td>\n",
       "      <td>-0.138217</td>\n",
       "      <td>-0.120998</td>\n",
       "      <td>0.127101</td>\n",
       "      <td>0.495793</td>\n",
       "    </tr>\n",
       "    <tr>\n",
       "      <th>8598</th>\n",
       "      <td>c_998</td>\n",
       "      <td>m</td>\n",
       "      <td>-1.344902</td>\n",
       "      <td>0.332724</td>\n",
       "      <td>3.418764</td>\n",
       "      <td>-0.092879</td>\n",
       "      <td>(20, 30]</td>\n",
       "      <td>-0.135594</td>\n",
       "      <td>-0.181093</td>\n",
       "      <td>0.852269</td>\n",
       "      <td>-0.590276</td>\n",
       "    </tr>\n",
       "    <tr>\n",
       "      <th>8599</th>\n",
       "      <td>c_999</td>\n",
       "      <td>m</td>\n",
       "      <td>0.843440</td>\n",
       "      <td>-0.143828</td>\n",
       "      <td>-1.129857</td>\n",
       "      <td>0.018499</td>\n",
       "      <td>(50, 60]</td>\n",
       "      <td>-0.132044</td>\n",
       "      <td>-0.057866</td>\n",
       "      <td>-0.110999</td>\n",
       "      <td>-0.568111</td>\n",
       "    </tr>\n",
       "  </tbody>\n",
       "</table>\n",
       "<p>8600 rows × 11 columns</p>\n",
       "</div>"
      ],
      "text/plain": [
       "     client_id sex       age   Montant  panier_moyen  frequence Tranche-d_age  \\\n",
       "0          c_1   m  1.375740 -0.145524     -0.886085  -0.065034      (60, 70]   \n",
       "1         c_10   m  1.316596 -0.034237     -0.153254  -0.051112      (60, 70]   \n",
       "2        c_100   m -0.812603 -0.175839      1.509736  -0.232100      (20, 30]   \n",
       "3       c_1000   f  0.725152  0.119265     -0.740760   0.310864      (50, 60]   \n",
       "4       c_1001   m -0.221159  0.166983      0.257447   0.060265      (30, 40]   \n",
       "...        ...  ..       ...       ...           ...        ...           ...   \n",
       "8595     c_995   m  1.375740 -0.216292     -0.719464  -0.204256      (60, 70]   \n",
       "8596     c_996   f  0.488574  0.025560     -0.863953   0.227331      (50, 60]   \n",
       "8597     c_997   f -0.930892 -0.039416      0.758881  -0.134645      (20, 30]   \n",
       "8598     c_998   m -1.344902  0.332724      3.418764  -0.092879      (20, 30]   \n",
       "8599     c_999   m  0.843440 -0.143828     -1.129857   0.018499      (50, 60]   \n",
       "\n",
       "      montant_categ_O  montant_categ_1  montant_categ_2   recence  \n",
       "0           -0.067417        -0.224196        -0.071303 -0.102653  \n",
       "1           -0.106470         0.153541        -0.060364  0.983415  \n",
       "2           -0.180599        -0.246197        -0.010777  3.776163  \n",
       "3           -0.070864         0.648503        -0.110999 -0.701099  \n",
       "4            0.212814         0.015734         0.106041 -0.656770  \n",
       "...               ...              ...              ...       ...  \n",
       "8595        -0.161611        -0.233460        -0.110999  1.870002  \n",
       "8596        -0.043246         0.323251        -0.110999 -0.213477  \n",
       "8597        -0.138217        -0.120998         0.127101  0.495793  \n",
       "8598        -0.135594        -0.181093         0.852269 -0.590276  \n",
       "8599        -0.132044        -0.057866        -0.110999 -0.568111  \n",
       "\n",
       "[8600 rows x 11 columns]"
      ]
     },
     "execution_count": 18,
     "metadata": {},
     "output_type": "execute_result"
    }
   ],
   "source": [
    "#Z-Score standardisation\n",
    "from sklearn.preprocessing import StandardScaler\n",
    "df_std = Data_client_id.copy()\n",
    "\n",
    "#ICI LE NOM DE TES COLONNES\n",
    "num_columns = ['age', 'recence', 'montant_categ_O', 'montant_categ_1',\\\n",
    "                                           'montant_categ_2', 'Montant', 'panier_moyen', 'frequence']\n",
    "#fit, on lui donne les données pour l'entraînement\n",
    "std_scaler = StandardScaler().fit(Data_client_id[num_columns])\n",
    "\n",
    "#transform, il va appliquer le modèle sur les données\n",
    "df_std[num_columns] = std_scaler.transform(Data_client_id[num_columns])\n",
    "df_std.drop(['client_id','sex','Tranche-d_age'],axis=1)\n",
    "df_std"
   ]
  },
  {
   "cell_type": "markdown",
   "metadata": {},
   "source": [
    "# Displot"
   ]
  },
  {
   "cell_type": "code",
   "execution_count": 19,
   "metadata": {},
   "outputs": [
    {
     "name": "stderr",
     "output_type": "stream",
     "text": [
      "C:\\Users\\mattb\\anaconda3\\lib\\site-packages\\seaborn\\distributions.py:2557: FutureWarning: `distplot` is a deprecated function and will be removed in a future version. Please adapt your code to use either `displot` (a figure-level function with similar flexibility) or `histplot` (an axes-level function for histograms).\n",
      "  warnings.warn(msg, FutureWarning)\n"
     ]
    },
    {
     "data": {
      "text/plain": [
       "<AxesSubplot:xlabel='age', ylabel='Density'>"
      ]
     },
     "execution_count": 19,
     "metadata": {},
     "output_type": "execute_result"
    },
    {
     "data": {
      "image/png": "[encoded data removed]",
      "text/plain": [
       "<Figure size 432x288 with 1 Axes>"
      ]
     },
     "metadata": {
      "needs_background": "light"
     },
     "output_type": "display_data"
    }
   ],
   "source": [
    "sns.distplot(Data_client_id['age'], kde=True, color='pink')"
   ]
  },
  {
   "cell_type": "code",
   "execution_count": 20,
   "metadata": {},
   "outputs": [
    {
     "name": "stderr",
     "output_type": "stream",
     "text": [
      "C:\\Users\\mattb\\anaconda3\\lib\\site-packages\\seaborn\\distributions.py:2557: FutureWarning: `distplot` is a deprecated function and will be removed in a future version. Please adapt your code to use either `displot` (a figure-level function with similar flexibility) or `histplot` (an axes-level function for histograms).\n",
      "  warnings.warn(msg, FutureWarning)\n"
     ]
    },
    {
     "data": {
      "text/plain": [
       "<AxesSubplot:xlabel='age', ylabel='Density'>"
      ]
     },
     "execution_count": 20,
     "metadata": {},
     "output_type": "execute_result"
    },
    {
     "data": {
      "image/png": "[encoded data removed]",
      "text/plain": [
       "<Figure size 432x288 with 1 Axes>"
      ]
     },
     "metadata": {
      "needs_background": "light"
     },
     "output_type": "display_data"
    }
   ],
   "source": [
    "sns.distplot(df_std['age'], kde=True, color='black')"
   ]
  },
  {
   "cell_type": "code",
   "execution_count": 21,
   "metadata": {},
   "outputs": [
    {
     "name": "stderr",
     "output_type": "stream",
     "text": [
      "C:\\Users\\mattb\\anaconda3\\lib\\site-packages\\seaborn\\distributions.py:2557: FutureWarning: `distplot` is a deprecated function and will be removed in a future version. Please adapt your code to use either `displot` (a figure-level function with similar flexibility) or `histplot` (an axes-level function for histograms).\n",
      "  warnings.warn(msg, FutureWarning)\n"
     ]
    },
    {
     "data": {
      "text/plain": [
       "<AxesSubplot:xlabel='age', ylabel='Density'>"
      ]
     },
     "execution_count": 21,
     "metadata": {},
     "output_type": "execute_result"
    },
    {
     "data": {
      "image/png": "[encoded data removed]",
      "text/plain": [
       "<Figure size 432x288 with 1 Axes>"
      ]
     },
     "metadata": {
      "needs_background": "light"
     },
     "output_type": "display_data"
    }
   ],
   "source": [
    "from sklearn.preprocessing import MinMaxScaler\n",
    "df_std_2 = Data_client_id.copy()\n",
    "\n",
    "std_scaler = MinMaxScaler().fit(Data_client_id[num_columns])\n",
    "df_std_2[num_columns] = std_scaler.transform(Data_client_id[num_columns])\n",
    "df_std_2.drop(['sex','Tranche-d_age'],axis=1)\n",
    "sns.distplot(df_std_2['age'], kde=True, color='green')"
   ]
  },
  {
   "cell_type": "code",
   "execution_count": 22,
   "metadata": {},
   "outputs": [
    {
     "data": {
      "text/plain": [
       "array([[ 1.37574001],\n",
       "       [ 1.31659561],\n",
       "       [-0.8126028 ],\n",
       "       ...,\n",
       "       [-0.9308916 ],\n",
       "       [-1.3449024 ],\n",
       "       [ 0.84344041]])"
      ]
     },
     "execution_count": 22,
     "metadata": {},
     "output_type": "execute_result"
    }
   ],
   "source": [
    "#array et reshape valeur âge\n",
    "age_scaler=np.array(Data_client_id['age'])\n",
    "age_scaler=age_scaler.reshape(8600, 1)\n",
    "scaler = StandardScaler()\n",
    "scaler_standard = scaler.fit_transform(age_scaler)\n",
    "scaler_standard"
   ]
  },
  {
   "cell_type": "markdown",
   "metadata": {
    "id": "aswe1tDjmxSf"
   },
   "source": [
    "### Matrice de corrélation"
   ]
  },
  {
   "cell_type": "markdown",
   "metadata": {
    "id": "HFwmG5k_mxSf"
   },
   "source": [
    "Comment sont calculés les coefficients ? Par quelle méthode ? Qu'est-ce que signifie une corrélation positive/négative ? "
   ]
  },
  {
   "cell_type": "markdown",
   "metadata": {
    "id": "Yxkq5TC3mxSf"
   },
   "source": [
    "Pour vous aiguillez avec Python : https://www.delftstack.com/fr/howto/python-pandas/pandas-correlation-matrix/"
   ]
  },
  {
   "cell_type": "code",
   "execution_count": 23,
   "metadata": {
    "scrolled": true
   },
   "outputs": [
    {
     "data": {
      "text/plain": [
       "<AxesSubplot:>"
      ]
     },
     "execution_count": 23,
     "metadata": {},
     "output_type": "execute_result"
    },
    {
     "data": {
      "image/png": "[encoded data removed]",
      "text/plain": [
       "<Figure size 720x720 with 1 Axes>"
      ]
     },
     "metadata": {
      "needs_background": "light"
     },
     "output_type": "display_data"
    }
   ],
   "source": [
    "import seaborn as sns \n",
    "import matplotlib.pyplot as plt \n",
    "\n",
    "plt.figure(figsize = (10,10))\n",
    "sns.heatmap(df_std.corr(),annot= True, cbar = False, cmap=\"BuPu\")"
   ]
  },
  {
   "cell_type": "markdown",
   "metadata": {},
   "source": [
    "# K-Means Elbow method"
   ]
  },
  {
   "cell_type": "code",
   "execution_count": 24,
   "metadata": {},
   "outputs": [],
   "source": [
    "import pandas as pd\n",
    "import numpy as np\n",
    "import matplotlib.pyplot as plt\n",
    "%matplotlib inline \n",
    "from sklearn.cluster import KMeans\n",
    "from sklearn import datasets\n"
   ]
  },
  {
   "cell_type": "code",
   "execution_count": 25,
   "metadata": {},
   "outputs": [
    {
     "name": "stdout",
     "output_type": "stream",
     "text": [
      "Requirement already satisfied: yellowbrick in c:\\users\\mattb\\appdata\\roaming\\python\\python38\\site-packages (1.3.post1)\n",
      "Requirement already satisfied: scikit-learn>=0.20 in c:\\users\\mattb\\anaconda3\\lib\\site-packages (from yellowbrick) (0.24.1)\n",
      "Requirement already satisfied: matplotlib!=3.0.0,>=2.0.2 in c:\\users\\mattb\\anaconda3\\lib\\site-packages (from yellowbrick) (3.3.4)\n",
      "Requirement already satisfied: scipy>=1.0.0 in c:\\users\\mattb\\anaconda3\\lib\\site-packages (from yellowbrick) (1.6.2)\n",
      "Requirement already satisfied: cycler>=0.10.0 in c:\\users\\mattb\\anaconda3\\lib\\site-packages (from yellowbrick) (0.10.0)\n",
      "Requirement already satisfied: numpy<1.20,>=1.16.0 in c:\\users\\mattb\\appdata\\roaming\\python\\python38\\site-packages (from yellowbrick) (1.19.5)\n",
      "Requirement already satisfied: six in c:\\users\\mattb\\anaconda3\\lib\\site-packages (from cycler>=0.10.0->yellowbrick) (1.15.0)\n",
      "Requirement already satisfied: pyparsing!=2.0.4,!=2.1.2,!=2.1.6,>=2.0.3 in c:\\users\\mattb\\anaconda3\\lib\\site-packages (from matplotlib!=3.0.0,>=2.0.2->yellowbrick) (2.4.7)\n",
      "Requirement already satisfied: kiwisolver>=1.0.1 in c:\\users\\mattb\\anaconda3\\lib\\site-packages (from matplotlib!=3.0.0,>=2.0.2->yellowbrick) (1.3.1)\n",
      "Requirement already satisfied: pillow>=6.2.0 in c:\\users\\mattb\\anaconda3\\lib\\site-packages (from matplotlib!=3.0.0,>=2.0.2->yellowbrick) (8.2.0)\n",
      "Requirement already satisfied: python-dateutil>=2.1 in c:\\users\\mattb\\anaconda3\\lib\\site-packages (from matplotlib!=3.0.0,>=2.0.2->yellowbrick) (2.8.1)\n",
      "Requirement already satisfied: threadpoolctl>=2.0.0 in c:\\users\\mattb\\anaconda3\\lib\\site-packages (from scikit-learn>=0.20->yellowbrick) (2.1.0)\n",
      "Requirement already satisfied: joblib>=0.11 in c:\\users\\mattb\\anaconda3\\lib\\site-packages (from scikit-learn>=0.20->yellowbrick) (1.0.1)\n"
     ]
    }
   ],
   "source": [
    "!pip install yellowbrick"
   ]
  },
  {
   "cell_type": "code",
   "execution_count": 26,
   "metadata": {},
   "outputs": [
    {
     "name": "stdout",
     "output_type": "stream",
     "text": [
      "Requirement already satisfied: yellowbrick in c:\\users\\mattb\\appdata\\roaming\\python\\python38\\site-packages (1.3.post1)\n",
      "Requirement already satisfied: scipy>=1.0.0 in c:\\users\\mattb\\anaconda3\\lib\\site-packages (from yellowbrick) (1.6.2)\n",
      "Requirement already satisfied: cycler>=0.10.0 in c:\\users\\mattb\\anaconda3\\lib\\site-packages (from yellowbrick) (0.10.0)\n",
      "Requirement already satisfied: scikit-learn>=0.20 in c:\\users\\mattb\\anaconda3\\lib\\site-packages (from yellowbrick) (0.24.1)\n",
      "Requirement already satisfied: matplotlib!=3.0.0,>=2.0.2 in c:\\users\\mattb\\anaconda3\\lib\\site-packages (from yellowbrick) (3.3.4)\n",
      "Requirement already satisfied: numpy<1.20,>=1.16.0 in c:\\users\\mattb\\appdata\\roaming\\python\\python38\\site-packages (from yellowbrick) (1.19.5)\n",
      "Requirement already satisfied: six in c:\\users\\mattb\\anaconda3\\lib\\site-packages (from cycler>=0.10.0->yellowbrick) (1.15.0)\n",
      "Requirement already satisfied: pillow>=6.2.0 in c:\\users\\mattb\\anaconda3\\lib\\site-packages (from matplotlib!=3.0.0,>=2.0.2->yellowbrick) (8.2.0)\n",
      "Requirement already satisfied: pyparsing!=2.0.4,!=2.1.2,!=2.1.6,>=2.0.3 in c:\\users\\mattb\\anaconda3\\lib\\site-packages (from matplotlib!=3.0.0,>=2.0.2->yellowbrick) (2.4.7)\n",
      "Requirement already satisfied: python-dateutil>=2.1 in c:\\users\\mattb\\anaconda3\\lib\\site-packages (from matplotlib!=3.0.0,>=2.0.2->yellowbrick) (2.8.1)\n",
      "Requirement already satisfied: kiwisolver>=1.0.1 in c:\\users\\mattb\\anaconda3\\lib\\site-packages (from matplotlib!=3.0.0,>=2.0.2->yellowbrick) (1.3.1)\n",
      "Requirement already satisfied: joblib>=0.11 in c:\\users\\mattb\\anaconda3\\lib\\site-packages (from scikit-learn>=0.20->yellowbrick) (1.0.1)\n",
      "Requirement already satisfied: threadpoolctl>=2.0.0 in c:\\users\\mattb\\anaconda3\\lib\\site-packages (from scikit-learn>=0.20->yellowbrick) (2.1.0)\n"
     ]
    }
   ],
   "source": [
    "!pip install --user yellowbrick"
   ]
  },
  {
   "cell_type": "code",
   "execution_count": 27,
   "metadata": {},
   "outputs": [
    {
     "data": {
      "text/html": [
       "<div>\n",
       "<style scoped>\n",
       "    .dataframe tbody tr th:only-of-type {\n",
       "        vertical-align: middle;\n",
       "    }\n",
       "\n",
       "    .dataframe tbody tr th {\n",
       "        vertical-align: top;\n",
       "    }\n",
       "\n",
       "    .dataframe thead th {\n",
       "        text-align: right;\n",
       "    }\n",
       "</style>\n",
       "<table border=\"1\" class=\"dataframe\">\n",
       "  <thead>\n",
       "    <tr style=\"text-align: right;\">\n",
       "      <th></th>\n",
       "      <th>age</th>\n",
       "      <th>Montant</th>\n",
       "      <th>panier_moyen</th>\n",
       "      <th>frequence</th>\n",
       "      <th>montant_categ_O</th>\n",
       "      <th>montant_categ_1</th>\n",
       "      <th>montant_categ_2</th>\n",
       "      <th>recence</th>\n",
       "    </tr>\n",
       "  </thead>\n",
       "  <tbody>\n",
       "    <tr>\n",
       "      <th>0</th>\n",
       "      <td>1.375740</td>\n",
       "      <td>-0.145524</td>\n",
       "      <td>-0.886085</td>\n",
       "      <td>-0.065034</td>\n",
       "      <td>-0.067417</td>\n",
       "      <td>-0.224196</td>\n",
       "      <td>-0.071303</td>\n",
       "      <td>-0.102653</td>\n",
       "    </tr>\n",
       "    <tr>\n",
       "      <th>1</th>\n",
       "      <td>1.316596</td>\n",
       "      <td>-0.034237</td>\n",
       "      <td>-0.153254</td>\n",
       "      <td>-0.051112</td>\n",
       "      <td>-0.106470</td>\n",
       "      <td>0.153541</td>\n",
       "      <td>-0.060364</td>\n",
       "      <td>0.983415</td>\n",
       "    </tr>\n",
       "    <tr>\n",
       "      <th>2</th>\n",
       "      <td>-0.812603</td>\n",
       "      <td>-0.175839</td>\n",
       "      <td>1.509736</td>\n",
       "      <td>-0.232100</td>\n",
       "      <td>-0.180599</td>\n",
       "      <td>-0.246197</td>\n",
       "      <td>-0.010777</td>\n",
       "      <td>3.776163</td>\n",
       "    </tr>\n",
       "    <tr>\n",
       "      <th>3</th>\n",
       "      <td>0.725152</td>\n",
       "      <td>0.119265</td>\n",
       "      <td>-0.740760</td>\n",
       "      <td>0.310864</td>\n",
       "      <td>-0.070864</td>\n",
       "      <td>0.648503</td>\n",
       "      <td>-0.110999</td>\n",
       "      <td>-0.701099</td>\n",
       "    </tr>\n",
       "    <tr>\n",
       "      <th>4</th>\n",
       "      <td>-0.221159</td>\n",
       "      <td>0.166983</td>\n",
       "      <td>0.257447</td>\n",
       "      <td>0.060265</td>\n",
       "      <td>0.212814</td>\n",
       "      <td>0.015734</td>\n",
       "      <td>0.106041</td>\n",
       "      <td>-0.656770</td>\n",
       "    </tr>\n",
       "    <tr>\n",
       "      <th>...</th>\n",
       "      <td>...</td>\n",
       "      <td>...</td>\n",
       "      <td>...</td>\n",
       "      <td>...</td>\n",
       "      <td>...</td>\n",
       "      <td>...</td>\n",
       "      <td>...</td>\n",
       "      <td>...</td>\n",
       "    </tr>\n",
       "    <tr>\n",
       "      <th>8595</th>\n",
       "      <td>1.375740</td>\n",
       "      <td>-0.216292</td>\n",
       "      <td>-0.719464</td>\n",
       "      <td>-0.204256</td>\n",
       "      <td>-0.161611</td>\n",
       "      <td>-0.233460</td>\n",
       "      <td>-0.110999</td>\n",
       "      <td>1.870002</td>\n",
       "    </tr>\n",
       "    <tr>\n",
       "      <th>8596</th>\n",
       "      <td>0.488574</td>\n",
       "      <td>0.025560</td>\n",
       "      <td>-0.863953</td>\n",
       "      <td>0.227331</td>\n",
       "      <td>-0.043246</td>\n",
       "      <td>0.323251</td>\n",
       "      <td>-0.110999</td>\n",
       "      <td>-0.213477</td>\n",
       "    </tr>\n",
       "    <tr>\n",
       "      <th>8597</th>\n",
       "      <td>-0.930892</td>\n",
       "      <td>-0.039416</td>\n",
       "      <td>0.758881</td>\n",
       "      <td>-0.134645</td>\n",
       "      <td>-0.138217</td>\n",
       "      <td>-0.120998</td>\n",
       "      <td>0.127101</td>\n",
       "      <td>0.495793</td>\n",
       "    </tr>\n",
       "    <tr>\n",
       "      <th>8598</th>\n",
       "      <td>-1.344902</td>\n",
       "      <td>0.332724</td>\n",
       "      <td>3.418764</td>\n",
       "      <td>-0.092879</td>\n",
       "      <td>-0.135594</td>\n",
       "      <td>-0.181093</td>\n",
       "      <td>0.852269</td>\n",
       "      <td>-0.590276</td>\n",
       "    </tr>\n",
       "    <tr>\n",
       "      <th>8599</th>\n",
       "      <td>0.843440</td>\n",
       "      <td>-0.143828</td>\n",
       "      <td>-1.129857</td>\n",
       "      <td>0.018499</td>\n",
       "      <td>-0.132044</td>\n",
       "      <td>-0.057866</td>\n",
       "      <td>-0.110999</td>\n",
       "      <td>-0.568111</td>\n",
       "    </tr>\n",
       "  </tbody>\n",
       "</table>\n",
       "<p>8600 rows × 8 columns</p>\n",
       "</div>"
      ],
      "text/plain": [
       "           age   Montant  panier_moyen  frequence  montant_categ_O  \\\n",
       "0     1.375740 -0.145524     -0.886085  -0.065034        -0.067417   \n",
       "1     1.316596 -0.034237     -0.153254  -0.051112        -0.106470   \n",
       "2    -0.812603 -0.175839      1.509736  -0.232100        -0.180599   \n",
       "3     0.725152  0.119265     -0.740760   0.310864        -0.070864   \n",
       "4    -0.221159  0.166983      0.257447   0.060265         0.212814   \n",
       "...        ...       ...           ...        ...              ...   \n",
       "8595  1.375740 -0.216292     -0.719464  -0.204256        -0.161611   \n",
       "8596  0.488574  0.025560     -0.863953   0.227331        -0.043246   \n",
       "8597 -0.930892 -0.039416      0.758881  -0.134645        -0.138217   \n",
       "8598 -1.344902  0.332724      3.418764  -0.092879        -0.135594   \n",
       "8599  0.843440 -0.143828     -1.129857   0.018499        -0.132044   \n",
       "\n",
       "      montant_categ_1  montant_categ_2   recence  \n",
       "0           -0.224196        -0.071303 -0.102653  \n",
       "1            0.153541        -0.060364  0.983415  \n",
       "2           -0.246197        -0.010777  3.776163  \n",
       "3            0.648503        -0.110999 -0.701099  \n",
       "4            0.015734         0.106041 -0.656770  \n",
       "...               ...              ...       ...  \n",
       "8595        -0.233460        -0.110999  1.870002  \n",
       "8596         0.323251        -0.110999 -0.213477  \n",
       "8597        -0.120998         0.127101  0.495793  \n",
       "8598        -0.181093         0.852269 -0.590276  \n",
       "8599        -0.057866        -0.110999 -0.568111  \n",
       "\n",
       "[8600 rows x 8 columns]"
      ]
     },
     "execution_count": 27,
     "metadata": {},
     "output_type": "execute_result"
    }
   ],
   "source": [
    "df_std=df_std.drop(['client_id','sex','Tranche-d_age',],axis=1)\n",
    "df_std"
   ]
  },
  {
   "cell_type": "code",
   "execution_count": 76,
   "metadata": {},
   "outputs": [
    {
     "data": {
      "image/png": "[encoded data removed]",
      "text/plain": [
       "<Figure size 720x360 with 2 Axes>"
      ]
     },
     "metadata": {},
     "output_type": "display_data"
    },
    {
     "data": {
      "text/plain": [
       "<AxesSubplot:title={'center':'Distortion Score Elbow for KMeans Clustering'}, xlabel='k', ylabel='distortion score'>"
      ]
     },
     "execution_count": 76,
     "metadata": {},
     "output_type": "execute_result"
    }
   ],
   "source": [
    "import matplotlib as mpl \n",
    "import matplotlib.pyplot as plt \n",
    "from sklearn.cluster import KMeans\n",
    "from yellowbrick.cluster import KElbowVisualizer, SilhouetteVisualizer\n",
    "\n",
    "model = KMeans(random_state=42)\n",
    "visualizer = KElbowVisualizer(model, k =(4,12))\n",
    "visualizer.fit(df_std)\n",
    "visualizer.show()"
   ]
  },
  {
   "cell_type": "markdown",
   "metadata": {},
   "source": [
    "la cassure determine le nombre de cluster necessaire "
   ]
  },
  {
   "cell_type": "markdown",
   "metadata": {},
   "source": [
    "# Ajout de la colonne \"Cluster\""
   ]
  },
  {
   "cell_type": "code",
   "execution_count": 93,
   "metadata": {},
   "outputs": [],
   "source": [
    "kmn= KMeans(n_clusters=7, random_state = 24)"
   ]
  },
  {
   "cell_type": "code",
   "execution_count": 94,
   "metadata": {},
   "outputs": [],
   "source": [
    "Data_client_id[\"cluster\"] = kmn.fit_predict(df_std)"
   ]
  },
  {
   "cell_type": "code",
   "execution_count": 95,
   "metadata": {},
   "outputs": [
    {
     "data": {
      "text/html": [
       "<div>\n",
       "<style scoped>\n",
       "    .dataframe tbody tr th:only-of-type {\n",
       "        vertical-align: middle;\n",
       "    }\n",
       "\n",
       "    .dataframe tbody tr th {\n",
       "        vertical-align: top;\n",
       "    }\n",
       "\n",
       "    .dataframe thead th {\n",
       "        text-align: right;\n",
       "    }\n",
       "</style>\n",
       "<table border=\"1\" class=\"dataframe\">\n",
       "  <thead>\n",
       "    <tr style=\"text-align: right;\">\n",
       "      <th></th>\n",
       "      <th>client_id</th>\n",
       "      <th>sex</th>\n",
       "      <th>age</th>\n",
       "      <th>Montant</th>\n",
       "      <th>panier_moyen</th>\n",
       "      <th>frequence</th>\n",
       "      <th>Tranche-d_age</th>\n",
       "      <th>montant_categ_O</th>\n",
       "      <th>montant_categ_1</th>\n",
       "      <th>montant_categ_2</th>\n",
       "      <th>recence</th>\n",
       "      <th>cluster</th>\n",
       "    </tr>\n",
       "  </thead>\n",
       "  <tbody>\n",
       "    <tr>\n",
       "      <th>0</th>\n",
       "      <td>c_1</td>\n",
       "      <td>m</td>\n",
       "      <td>67</td>\n",
       "      <td>300.65</td>\n",
       "      <td>20.043333</td>\n",
       "      <td>15</td>\n",
       "      <td>(60, 70]</td>\n",
       "      <td>174.20</td>\n",
       "      <td>71.58</td>\n",
       "      <td>54.87</td>\n",
       "      <td>27.0</td>\n",
       "      <td>6</td>\n",
       "    </tr>\n",
       "    <tr>\n",
       "      <th>1</th>\n",
       "      <td>c_10</td>\n",
       "      <td>m</td>\n",
       "      <td>66</td>\n",
       "      <td>586.18</td>\n",
       "      <td>36.636250</td>\n",
       "      <td>16</td>\n",
       "      <td>(60, 70]</td>\n",
       "      <td>124.92</td>\n",
       "      <td>391.27</td>\n",
       "      <td>69.99</td>\n",
       "      <td>76.0</td>\n",
       "      <td>6</td>\n",
       "    </tr>\n",
       "    <tr>\n",
       "      <th>2</th>\n",
       "      <td>c_100</td>\n",
       "      <td>m</td>\n",
       "      <td>30</td>\n",
       "      <td>222.87</td>\n",
       "      <td>74.290000</td>\n",
       "      <td>3</td>\n",
       "      <td>(20, 30]</td>\n",
       "      <td>31.38</td>\n",
       "      <td>52.96</td>\n",
       "      <td>138.53</td>\n",
       "      <td>202.0</td>\n",
       "      <td>5</td>\n",
       "    </tr>\n",
       "    <tr>\n",
       "      <th>3</th>\n",
       "      <td>c_1000</td>\n",
       "      <td>f</td>\n",
       "      <td>56</td>\n",
       "      <td>980.02</td>\n",
       "      <td>23.333810</td>\n",
       "      <td>42</td>\n",
       "      <td>(50, 60]</td>\n",
       "      <td>169.85</td>\n",
       "      <td>810.17</td>\n",
       "      <td>0.00</td>\n",
       "      <td>0.0</td>\n",
       "      <td>6</td>\n",
       "    </tr>\n",
       "    <tr>\n",
       "      <th>4</th>\n",
       "      <td>c_1001</td>\n",
       "      <td>m</td>\n",
       "      <td>40</td>\n",
       "      <td>1102.45</td>\n",
       "      <td>45.935417</td>\n",
       "      <td>24</td>\n",
       "      <td>(30, 40]</td>\n",
       "      <td>527.81</td>\n",
       "      <td>274.64</td>\n",
       "      <td>300.00</td>\n",
       "      <td>2.0</td>\n",
       "      <td>1</td>\n",
       "    </tr>\n",
       "    <tr>\n",
       "      <th>5</th>\n",
       "      <td>c_1002</td>\n",
       "      <td>f</td>\n",
       "      <td>40</td>\n",
       "      <td>298.65</td>\n",
       "      <td>27.150000</td>\n",
       "      <td>11</td>\n",
       "      <td>(30, 40]</td>\n",
       "      <td>203.77</td>\n",
       "      <td>94.88</td>\n",
       "      <td>0.00</td>\n",
       "      <td>18.0</td>\n",
       "      <td>1</td>\n",
       "    </tr>\n",
       "    <tr>\n",
       "      <th>6</th>\n",
       "      <td>c_1003</td>\n",
       "      <td>m</td>\n",
       "      <td>40</td>\n",
       "      <td>552.67</td>\n",
       "      <td>26.317619</td>\n",
       "      <td>21</td>\n",
       "      <td>(30, 40]</td>\n",
       "      <td>389.91</td>\n",
       "      <td>162.76</td>\n",
       "      <td>0.00</td>\n",
       "      <td>20.0</td>\n",
       "      <td>1</td>\n",
       "    </tr>\n",
       "    <tr>\n",
       "      <th>7</th>\n",
       "      <td>c_1004</td>\n",
       "      <td>m</td>\n",
       "      <td>49</td>\n",
       "      <td>520.23</td>\n",
       "      <td>28.901667</td>\n",
       "      <td>18</td>\n",
       "      <td>(40, 50]</td>\n",
       "      <td>302.92</td>\n",
       "      <td>217.31</td>\n",
       "      <td>0.00</td>\n",
       "      <td>10.0</td>\n",
       "      <td>1</td>\n",
       "    </tr>\n",
       "    <tr>\n",
       "      <th>8</th>\n",
       "      <td>c_1005</td>\n",
       "      <td>f</td>\n",
       "      <td>81</td>\n",
       "      <td>476.67</td>\n",
       "      <td>31.778000</td>\n",
       "      <td>15</td>\n",
       "      <td>(80, 90]</td>\n",
       "      <td>151.00</td>\n",
       "      <td>325.67</td>\n",
       "      <td>0.00</td>\n",
       "      <td>25.0</td>\n",
       "      <td>6</td>\n",
       "    </tr>\n",
       "    <tr>\n",
       "      <th>9</th>\n",
       "      <td>c_1006</td>\n",
       "      <td>m</td>\n",
       "      <td>43</td>\n",
       "      <td>1925.49</td>\n",
       "      <td>30.563333</td>\n",
       "      <td>63</td>\n",
       "      <td>(40, 50]</td>\n",
       "      <td>1227.17</td>\n",
       "      <td>698.32</td>\n",
       "      <td>0.00</td>\n",
       "      <td>6.0</td>\n",
       "      <td>1</td>\n",
       "    </tr>\n",
       "  </tbody>\n",
       "</table>\n",
       "</div>"
      ],
      "text/plain": [
       "  client_id sex  age  Montant  panier_moyen  frequence Tranche-d_age  \\\n",
       "0       c_1   m   67   300.65     20.043333         15      (60, 70]   \n",
       "1      c_10   m   66   586.18     36.636250         16      (60, 70]   \n",
       "2     c_100   m   30   222.87     74.290000          3      (20, 30]   \n",
       "3    c_1000   f   56   980.02     23.333810         42      (50, 60]   \n",
       "4    c_1001   m   40  1102.45     45.935417         24      (30, 40]   \n",
       "5    c_1002   f   40   298.65     27.150000         11      (30, 40]   \n",
       "6    c_1003   m   40   552.67     26.317619         21      (30, 40]   \n",
       "7    c_1004   m   49   520.23     28.901667         18      (40, 50]   \n",
       "8    c_1005   f   81   476.67     31.778000         15      (80, 90]   \n",
       "9    c_1006   m   43  1925.49     30.563333         63      (40, 50]   \n",
       "\n",
       "   montant_categ_O  montant_categ_1  montant_categ_2  recence  cluster  \n",
       "0           174.20            71.58            54.87     27.0        6  \n",
       "1           124.92           391.27            69.99     76.0        6  \n",
       "2            31.38            52.96           138.53    202.0        5  \n",
       "3           169.85           810.17             0.00      0.0        6  \n",
       "4           527.81           274.64           300.00      2.0        1  \n",
       "5           203.77            94.88             0.00     18.0        1  \n",
       "6           389.91           162.76             0.00     20.0        1  \n",
       "7           302.92           217.31             0.00     10.0        1  \n",
       "8           151.00           325.67             0.00     25.0        6  \n",
       "9          1227.17           698.32             0.00      6.0        1  "
      ]
     },
     "execution_count": 95,
     "metadata": {},
     "output_type": "execute_result"
    }
   ],
   "source": [
    "Data_client_id.head(10)"
   ]
  },
  {
   "cell_type": "markdown",
   "metadata": {},
   "source": [
    "# Indice de silhouette"
   ]
  },
  {
   "cell_type": "code",
   "execution_count": 96,
   "metadata": {},
   "outputs": [],
   "source": [
    "from sklearn.metrics import silhouette_score"
   ]
  },
  {
   "cell_type": "code",
   "execution_count": 98,
   "metadata": {},
   "outputs": [
    {
     "data": {
      "text/plain": [
       "0.3516515498066816"
      ]
     },
     "execution_count": 98,
     "metadata": {},
     "output_type": "execute_result"
    }
   ],
   "source": [
    "silhouette_score(df_std, Data_client_id['cluster'])"
   ]
  },
  {
   "cell_type": "code",
   "execution_count": 99,
   "metadata": {},
   "outputs": [
    {
     "data": {
      "text/plain": [
       "SilhouetteVisualizer(ax=<AxesSubplot:>,\n",
       "                     estimator=KMeans(n_clusters=7, random_state=24))"
      ]
     },
     "execution_count": 99,
     "metadata": {},
     "output_type": "execute_result"
    },
    {
     "data": {
      "image/png": "[encoded data removed]",
      "text/plain": [
       "<Figure size 720x360 with 1 Axes>"
      ]
     },
     "metadata": {},
     "output_type": "display_data"
    }
   ],
   "source": [
    "viz = SilhouetteVisualizer(kmn)\n",
    "viz.fit(df_std)"
   ]
  },
  {
   "cell_type": "markdown",
   "metadata": {},
   "source": [
    "# Interprétation des Clusters "
   ]
  },
  {
   "cell_type": "code",
   "execution_count": 102,
   "metadata": {},
   "outputs": [
    {
     "data": {
      "text/plain": [
       "1    3464\n",
       "6    2741\n",
       "0    1833\n",
       "5     558\n",
       "4       2\n",
       "2       1\n",
       "3       1\n",
       "Name: cluster, dtype: int64"
      ]
     },
     "execution_count": 102,
     "metadata": {},
     "output_type": "execute_result"
    }
   ],
   "source": [
    "Data_client_id['cluster'].value_counts()"
   ]
  },
  {
   "cell_type": "raw",
   "metadata": {},
   "source": [
    "Cluster 4 , 2 et 3 sont inutiles "
   ]
  },
  {
   "cell_type": "code",
   "execution_count": 78,
   "metadata": {},
   "outputs": [
    {
     "data": {
      "text/plain": [
       "<AxesSubplot:xlabel='cluster', ylabel='age'>"
      ]
     },
     "execution_count": 78,
     "metadata": {},
     "output_type": "execute_result"
    },
    {
     "data": {
      "image/png": "[encoded data removed]",
      "text/plain": [
       "<Figure size 720x360 with 1 Axes>"
      ]
     },
     "metadata": {},
     "output_type": "display_data"
    }
   ],
   "source": [
    "sns.set(rc = {'figure.figsize':(10,5)})\n",
    "sns.boxplot(x ='cluster',y = 'age', data=Data_client_id, palette=\"Blues\")"
   ]
  },
  {
   "cell_type": "code",
   "execution_count": 79,
   "metadata": {},
   "outputs": [
    {
     "data": {
      "text/plain": [
       "<AxesSubplot:xlabel='cluster', ylabel='Montant'>"
      ]
     },
     "execution_count": 79,
     "metadata": {},
     "output_type": "execute_result"
    },
    {
     "data": {
      "image/png": "[encoded data removed]",
      "text/plain": [
       "<Figure size 720x360 with 1 Axes>"
      ]
     },
     "metadata": {},
     "output_type": "display_data"
    }
   ],
   "source": [
    "sns.set(rc = {'figure.figsize':(10,5)})\n",
    "sns.boxplot(x ='cluster',y = 'Montant', data=Data_client_id, palette=\"Blues\")"
   ]
  },
  {
   "cell_type": "code",
   "execution_count": 80,
   "metadata": {},
   "outputs": [
    {
     "data": {
      "text/plain": [
       "<AxesSubplot:xlabel='cluster', ylabel='panier_moyen'>"
      ]
     },
     "execution_count": 80,
     "metadata": {},
     "output_type": "execute_result"
    },
    {
     "data": {
      "image/png": "[encoded data removed]",
      "text/plain": [
       "<Figure size 720x360 with 1 Axes>"
      ]
     },
     "metadata": {},
     "output_type": "display_data"
    }
   ],
   "source": [
    "sns.set(rc = {'figure.figsize':(10,5)})\n",
    "sns.boxplot(x ='cluster',y = 'panier_moyen', data=Data_client_id, palette=\"Blues\")"
   ]
  },
  {
   "cell_type": "code",
   "execution_count": 81,
   "metadata": {},
   "outputs": [
    {
     "data": {
      "text/plain": [
       "<AxesSubplot:xlabel='cluster', ylabel='frequence'>"
      ]
     },
     "execution_count": 81,
     "metadata": {},
     "output_type": "execute_result"
    },
    {
     "data": {
      "image/png": "[encoded data removed]",
      "text/plain": [
       "<Figure size 720x360 with 1 Axes>"
      ]
     },
     "metadata": {},
     "output_type": "display_data"
    }
   ],
   "source": [
    "sns.set(rc = {'figure.figsize':(10,5)})\n",
    "sns.boxplot(x ='cluster',y = 'frequence', data=Data_client_id, palette=\"Blues\")"
   ]
  },
  {
   "cell_type": "code",
   "execution_count": 82,
   "metadata": {},
   "outputs": [
    {
     "data": {
      "text/plain": [
       "<AxesSubplot:xlabel='cluster', ylabel='montant_categ_O'>"
      ]
     },
     "execution_count": 82,
     "metadata": {},
     "output_type": "execute_result"
    },
    {
     "data": {
      "image/png": "[encoded data removed]",
      "text/plain": [
       "<Figure size 720x360 with 1 Axes>"
      ]
     },
     "metadata": {},
     "output_type": "display_data"
    }
   ],
   "source": [
    "sns.set(rc = {'figure.figsize':(10,5)})\n",
    "sns.boxplot(x ='cluster',y = 'montant_categ_O', data=Data_client_id, palette=\"Blues\")"
   ]
  },
  {
   "cell_type": "code",
   "execution_count": 83,
   "metadata": {},
   "outputs": [
    {
     "data": {
      "text/plain": [
       "<AxesSubplot:xlabel='cluster', ylabel='montant_categ_1'>"
      ]
     },
     "execution_count": 83,
     "metadata": {},
     "output_type": "execute_result"
    },
    {
     "data": {
      "image/png": "[encoded data removed]",
      "text/plain": [
       "<Figure size 720x360 with 1 Axes>"
      ]
     },
     "metadata": {},
     "output_type": "display_data"
    }
   ],
   "source": [
    "sns.set(rc = {'figure.figsize':(10,5)})\n",
    "sns.boxplot(x ='cluster',y = 'montant_categ_1', data=Data_client_id, palette=\"Blues\")"
   ]
  },
  {
   "cell_type": "code",
   "execution_count": 100,
   "metadata": {},
   "outputs": [
    {
     "data": {
      "text/plain": [
       "<AxesSubplot:xlabel='cluster', ylabel='montant_categ_2'>"
      ]
     },
     "execution_count": 100,
     "metadata": {},
     "output_type": "execute_result"
    },
    {
     "data": {
      "image/png": "[encoded data removed]",
      "text/plain": [
       "<Figure size 720x360 with 1 Axes>"
      ]
     },
     "metadata": {},
     "output_type": "display_data"
    }
   ],
   "source": [
    "sns.set(rc = {'figure.figsize':(10,5)})\n",
    "sns.boxplot(x ='cluster',y = 'montant_categ_2', data=Data_client_id, palette=\"Blues\")"
   ]
  },
  {
   "cell_type": "code",
   "execution_count": 101,
   "metadata": {},
   "outputs": [
    {
     "data": {
      "text/plain": [
       "<AxesSubplot:xlabel='cluster', ylabel='recence'>"
      ]
     },
     "execution_count": 101,
     "metadata": {},
     "output_type": "execute_result"
    },
    {
     "data": {
      "image/png": "[encoded data removed]",
      "text/plain": [
       "<Figure size 720x360 with 1 Axes>"
      ]
     },
     "metadata": {},
     "output_type": "display_data"
    }
   ],
   "source": [
    "sns.set(rc = {'figure.figsize':(10,5)})\n",
    "sns.boxplot(x ='cluster',y = 'recence', data=Data_client_id, palette=\"Blues\")"
   ]
  },
  {
   "cell_type": "raw",
   "metadata": {},
   "source": [
    "Cluster 6 = Age\n",
    "cluster 5 = recence \n",
    "\n",
    "cluster 1 = categ 1 ou 2\n",
    "cluster 0 = panier moyen"
   ]
  }
 ],
 "metadata": {
  "colab": {
   "collapsed_sections": [],
   "name": "Manipulation_Librairie.ipynb",
   "provenance": []
  },
  "kernelspec": {
   "display_name": "Python 3",
   "language": "python",
   "name": "python3"
  },
  "language_info": {
   "codemirror_mode": {
    "name": "ipython",
    "version": 3
   },
   "file_extension": ".py",
   "mimetype": "text/x-python",
   "name": "python",
   "nbconvert_exporter": "python",
   "pygments_lexer": "ipython3",
   "version": "3.8.8"
  },
  "toc": {
   "base_numbering": 1,
   "nav_menu": {},
   "number_sections": true,
   "sideBar": true,
   "skip_h1_title": false,
   "title_cell": "Table of Contents",
   "title_sidebar": "Contents",
   "toc_cell": false,
   "toc_position": {},
   "toc_section_display": true,
   "toc_window_display": false
  }
 },
 "nbformat": 4,
 "nbformat_minor": 1
}
